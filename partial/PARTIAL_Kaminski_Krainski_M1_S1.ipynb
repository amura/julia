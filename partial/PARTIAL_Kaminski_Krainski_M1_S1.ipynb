{
 "cells": [
  {
   "cell_type": "code",
   "execution_count": null,
   "metadata": {},
   "outputs": [],
   "source": [
    "# IMPORTANT - *** fields are placeholders for your code. If you are not sure what they should contain, check the full solution."
   ]
  },
  {
   "cell_type": "code",
   "execution_count": null,
   "metadata": {},
   "outputs": [],
   "source": [
    "# First make sure to install all required packages.\n",
    "# You can do it by running the following command:"
   ]
  },
  {
   "cell_type": "code",
   "execution_count": null,
   "metadata": {},
   "outputs": [],
   "source": [
    "# ]add Arrow CSV DataFrames Plots FreqTables StatsBase"
   ]
  },
  {
   "cell_type": "code",
   "execution_count": null,
   "metadata": {},
   "outputs": [],
   "source": [
    "# If you launched Jupyter in directory with attached Project.toml and Manifest.toml\n",
    "# use below command to install required packages with fixed versions. \n",
    "# Check Project introduction for more information."
   ]
  },
  {
   "cell_type": "code",
   "execution_count": null,
   "metadata": {},
   "outputs": [],
   "source": [
    "# ] instantiate"
   ]
  },
  {
   "cell_type": "code",
   "execution_count": null,
   "metadata": {},
   "outputs": [],
   "source": [
    "# Import required libraries\n",
    "import Downloads\n",
    "import SHA\n",
    "using Arrow\n",
    "using CSV\n",
    "using DataFrames\n",
    "using Plots\n",
    "using FreqTables\n",
    "using Statistics\n",
    "using StatsBase"
   ]
  },
  {
   "cell_type": "markdown",
   "metadata": {},
   "source": [
    "# Boston Housing"
   ]
  },
  {
   "cell_type": "code",
   "execution_count": null,
   "metadata": {},
   "outputs": [],
   "source": [
    "# Define URL to Boston Housing data and expected SHA1\n",
    "const HOUSING_URL = \"https://archive.ics.uci.edu/ml/\" *\n",
    "                    \"machine-learning-databases/housing/housing.data\"\n",
    "const HOUSING_NAME = \"housing.txt\"\n",
    "const HOUSING_SHA1 = [0xad, 0xfa, 0x6b, 0x6d, 0xca,\n",
    "                      0x24, 0xa6, 0x3f, 0xe1, 0x66,\n",
    "                      0xa9, 0xe7, 0xfa, 0x01, 0xce,\n",
    "                      0xe4, 0x33, 0x58, 0x57, 0xd1];"
   ]
  },
  {
   "cell_type": "code",
   "execution_count": null,
   "metadata": {},
   "outputs": [],
   "source": [
    "# Download Boston Housing data if not exists\n",
    "if ***\n",
    "    @info \"$HOUSING_NAME found. Skipping download.\"\n",
    "else\n",
    "    @info \"$HOUSING_NAME not found. Fetching from source.\"\n",
    "    ***\n",
    "end"
   ]
  },
  {
   "cell_type": "code",
   "execution_count": null,
   "metadata": {},
   "outputs": [],
   "source": [
    "# Check SHA1 of Boston Housing file\n",
    "if HOUSING_SHA1 == ***\n",
    "    @info \"SHA1 check of $HOUSING_NAME passed.\"\n",
    "else\n",
    "    error(\"$HOUSING_NAME file has an invalid SHA1. Aborting!\")\n",
    "end"
   ]
  },
  {
   "cell_type": "code",
   "execution_count": null,
   "metadata": {},
   "outputs": [],
   "source": [
    "# Read Boston Housing CSV\n",
    "housing = ***(HOUSING_NAME, DataFrame,\n",
    "                       header=[:CRIM, :ZN, :INDUS, :CHAS, :NOX, :RM, :AGE,\n",
    "                               :DIS, :RAD, :TAX, :PTRATIO, :B, :LSTAT, :MEDV],\n",
    "                       delim=' ', ignorerepeated=true, tasks=1)"
   ]
  },
  {
   "cell_type": "code",
   "execution_count": null,
   "metadata": {},
   "outputs": [],
   "source": [
    "# Check basic statistics of all columns\n",
    "describe(housing)"
   ]
  },
  {
   "cell_type": "code",
   "execution_count": null,
   "metadata": {},
   "outputs": [],
   "source": [
    "# Find nominal variables (output of describe(housing) shows us that integer columns contin only a few values)\n",
    "nominal = names(housing, ***)"
   ]
  },
  {
   "cell_type": "code",
   "execution_count": null,
   "metadata": {},
   "outputs": [],
   "source": [
    "# Find continuous variables\n",
    "continuous = names(housing, ***)"
   ]
  },
  {
   "cell_type": "code",
   "execution_count": null,
   "metadata": {},
   "outputs": [],
   "source": [
    "# Inspect distribution of nominal variables\n",
    "foreach(name -> println(\"\\n\", ***), nominal)"
   ]
  },
  {
   "cell_type": "code",
   "execution_count": null,
   "metadata": {},
   "outputs": [],
   "source": [
    "# Check distributions of numeric features\n",
    "\n",
    "# First define a helper function for drawing of a single histogram\n",
    "histogram_helper(column_name) =\n",
    "    histogram(***)\n",
    "\n",
    "# Compose a grid of histograms in a single plot\n",
    "plot(map(x -> histogram_helper(x), continuous)..., layout=grid(3, 4), size=(800,500))"
   ]
  },
  {
   "cell_type": "code",
   "execution_count": null,
   "metadata": {},
   "outputs": [],
   "source": [
    "# Based on histogram plot, MEDV is censored or inaccurate on upper limit - 16 observations have value equal to 50.0\n",
    "# In our project we decide to just remove these values\n",
    "\n",
    "# Remove rows from housing in-place (! marks in-place operation)\n",
    "# Note that 16 rows got removed\n",
    "filter!(***, housing)"
   ]
  },
  {
   "cell_type": "code",
   "execution_count": null,
   "metadata": {},
   "outputs": [],
   "source": [
    "#Check variables distributions after filtering the observations\n",
    "plot(map(x -> histogram_helper(x), continuous)..., layout = grid(3, 4), size=(800,500))"
   ]
  },
  {
   "cell_type": "code",
   "execution_count": null,
   "metadata": {},
   "outputs": [],
   "source": [
    "#Calculate Kendall's correlation\n",
    "housing_cor = ***"
   ]
  },
  {
   "cell_type": "code",
   "execution_count": null,
   "metadata": {},
   "outputs": [],
   "source": [
    "# Get the information how we should reorder rows of housing_cor\n",
    "# Remember that MEDV is the last variable in our data set\n",
    "ord = sortperm(housing_cor[:, end])\n",
    "\n",
    "# Plot a heatmap, where both axis labels and correlation matrix are reordered by correlation with MEDV\n",
    "heatmap(***,\n",
    "        ***,\n",
    "        ***,\n",
    "        c=***)"
   ]
  },
  {
   "cell_type": "code",
   "execution_count": null,
   "metadata": {
    "scrolled": true
   },
   "outputs": [],
   "source": [
    "# Get information on absolute value of correlation\n",
    "sort(DataFrame(variable = names(housing), cor=housing_cor[:, end]), ***, by=***)"
   ]
  },
  {
   "cell_type": "code",
   "execution_count": null,
   "metadata": {
    "scrolled": true
   },
   "outputs": [],
   "source": [
    "#Additionally check relation of continuous variables visually on scatterplots\n",
    "\n",
    "scatter_helper(column_name) =\n",
    "    scatter(***)\n",
    "\n",
    "plot(map(x -> scatter_helper(x), continuous)..., layout=grid(3, 4))"
   ]
  },
  {
   "cell_type": "code",
   "execution_count": null,
   "metadata": {},
   "outputs": [],
   "source": [
    "# Remove least correlated feature - B\n",
    "# Again, we do an in-place operation\n",
    "select!(housing, .***)"
   ]
  },
  {
   "cell_type": "code",
   "execution_count": null,
   "metadata": {},
   "outputs": [],
   "source": [
    "# Transform CRIM and DIS - logarithmic transformation\n",
    "# Also bin ZN variable\n",
    "transform!(housing,\n",
    "           :CRIM => ByRow(.***), :DIS => ByRow(***), :ZN => ByRow(***),\n",
    "           renamecols=false)"
   ]
  },
  {
   "cell_type": "code",
   "execution_count": null,
   "metadata": {},
   "outputs": [],
   "source": [
    "# Recalculate the list of continuous variables\n",
    "continuous = names(housing, ***)"
   ]
  },
  {
   "cell_type": "code",
   "execution_count": null,
   "metadata": {},
   "outputs": [],
   "source": [
    "# Plot histogram again\n",
    "# We see that now distributions of variables look better\n",
    "plot(map(x -> histogram_helper(x), continuous)..., layout=grid(2, 5), size=(800,500))"
   ]
  },
  {
   "cell_type": "code",
   "execution_count": null,
   "metadata": {},
   "outputs": [],
   "source": [
    "# Plot scatterplot again\n",
    "plot(map(x -> scatter_helper(x), continuous)..., layout=grid(2, 5))"
   ]
  },
  {
   "cell_type": "code",
   "execution_count": null,
   "metadata": {},
   "outputs": [],
   "source": [
    "# Declare auxilary function for calculating bootstrap 90% confidence interval\n",
    "function gen_meanCI(x)\n",
    "    boot = [***(rand(x, length(x))) for _ in 1:10_000]\n",
    "    return (mean=mean(x), q5=***(boot, ***), q95=***(boot, ***))\n",
    "end"
   ]
  },
  {
   "cell_type": "code",
   "execution_count": null,
   "metadata": {},
   "outputs": [],
   "source": [
    "# Mean and 90% CI ends per group for :CHAS variable\n",
    "mean_chas = combine(***(housing, :CHAS, sort=true), :MEDV => gen_meanCI => AsTable)"
   ]
  },
  {
   "cell_type": "code",
   "execution_count": null,
   "metadata": {},
   "outputs": [],
   "source": [
    "# Mean and 90% CI ends per group for :RAD variable\n",
    "mean_rad = combine(***(housing, :RAD, sort=true), :MEDV => gen_meanCI => AsTable)"
   ]
  },
  {
   "cell_type": "code",
   "execution_count": null,
   "metadata": {},
   "outputs": [],
   "source": [
    "# Mean and 90% CI ends per group for :ZN variable\n",
    "mean_zn = combine(***(housing, :ZN, sort = true), :MEDV => gen_meanCI => AsTable)"
   ]
  },
  {
   "cell_type": "code",
   "execution_count": null,
   "metadata": {},
   "outputs": [],
   "source": [
    "# Plot the data frames in a single plot\n",
    "# You could use @df macro from StatsPlots.jl package to save you some typing here\n",
    "plot(plot(mean_chas.CHAS, mean_chas.mean,\n",
    "          yerror=(***),\n",
    "          label=nothing, title=\"CHAS\", seriestype=:scatter),\n",
    "     plot(mean_rad.RAD, mean_rad.mean,\n",
    "          yerror=(***),\n",
    "          label=nothing, title=\"RAD\", seriestype=:scatter),\n",
    "     plot(mean_zn.ZN, mean_zn.mean,\n",
    "          yerror=(***),\n",
    "          label=nothing, title=\"ZN\", seriestype=:scatter),\n",
    "    layout=grid(1, 3))"
   ]
  },
  {
   "cell_type": "code",
   "execution_count": null,
   "metadata": {},
   "outputs": [],
   "source": [
    "# Remove variable RAD as we do not see its interpretable relationship with :MEDV target variable\n",
    "select!(housing, ***)\n",
    "\n",
    "# Have a look at the data after cleaning\n",
    "describe(housing)"
   ]
  },
  {
   "cell_type": "code",
   "execution_count": null,
   "metadata": {},
   "outputs": [],
   "source": [
    "# Save clean dataset as Arrow file\n",
    "***(\"housing.arrow\", housing)"
   ]
  }
 ],
 "metadata": {
  "kernelspec": {
   "display_name": "Julia 1.6.0",
   "language": "julia",
   "name": "julia-1.6"
  },
  "language_info": {
   "file_extension": ".jl",
   "mimetype": "application/julia",
   "name": "julia",
   "version": "1.6.0"
  },
  "toc": {
   "base_numbering": 1,
   "nav_menu": {},
   "number_sections": true,
   "sideBar": true,
   "skip_h1_title": false,
   "title_cell": "Table of Contents",
   "title_sidebar": "Contents",
   "toc_cell": false,
   "toc_position": {},
   "toc_section_display": true,
   "toc_window_display": false
  }
 },
 "nbformat": 4,
 "nbformat_minor": 4
}
