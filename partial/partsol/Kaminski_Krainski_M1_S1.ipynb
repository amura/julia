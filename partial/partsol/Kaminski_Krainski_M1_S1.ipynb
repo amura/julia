{
 "cells": [
  {
   "cell_type": "code",
   "execution_count": null,
   "source": [
    "# First make sure to install all required packages.\n",
    "# You can do it by running the following command:"
   ],
   "outputs": [],
   "metadata": {}
  },
  {
   "cell_type": "code",
   "execution_count": null,
   "source": [
    "# ]add Arrow CSV DataFrames Plots FreqTables StatsBase"
   ],
   "outputs": [],
   "metadata": {}
  },
  {
   "cell_type": "code",
   "execution_count": null,
   "source": [
    "# If you launched Jupyter in directory with attached Project.toml and Manifest.toml\n",
    "# use below command to install required packages with fixed versions. \n",
    "# Check Project introduction for more information."
   ],
   "outputs": [],
   "metadata": {}
  },
  {
   "cell_type": "code",
   "execution_count": null,
   "source": [
    "] instantiate"
   ],
   "outputs": [],
   "metadata": {}
  },
  {
   "cell_type": "code",
   "execution_count": null,
   "source": [
    "# Import required libraries\n",
    "import Downloads\n",
    "import SHA\n",
    "using Arrow\n",
    "using CSV\n",
    "using DataFrames\n",
    "using Plots\n",
    "using FreqTables\n",
    "using Statistics\n",
    "using StatsBase"
   ],
   "outputs": [],
   "metadata": {}
  },
  {
   "cell_type": "markdown",
   "source": [
    "# Boston Housing"
   ],
   "metadata": {}
  },
  {
   "cell_type": "code",
   "execution_count": null,
   "source": [
    "# Define URL to Boston Housing data and expected SHA1\n",
    "const HOUSING_URL = \"https://archive.ics.uci.edu/ml/\" *\n",
    "                    \"machine-learning-databases/housing/housing.data\"\n",
    "const HOUSING_NAME = \"housing.txt\"\n",
    "const HOUSING_SHA1 = [0xad, 0xfa, 0x6b, 0x6d, 0xca,\n",
    "                      0x24, 0xa6, 0x3f, 0xe1, 0x66,\n",
    "                      0xa9, 0xe7, 0xfa, 0x01, 0xce,\n",
    "                      0xe4, 0x33, 0x58, 0x57, 0xd1];"
   ],
   "outputs": [],
   "metadata": {}
  },
  {
   "cell_type": "code",
   "execution_count": null,
   "source": [
    "# Download Boston Housing data if not exists\n",
    "if isfile(HOUSING_NAME)\n",
    "    @info \"$HOUSING_NAME found. Skipping download.\"\n",
    "else\n",
    "    @info \"$HOUSING_NAME not found. Fetching from source.\"\n",
    "    Downloads.download(HOUSING_URL, HOUSING_NAME)\n",
    "end"
   ],
   "outputs": [],
   "metadata": {}
  },
  {
   "cell_type": "code",
   "execution_count": null,
   "source": [
    "# Check SHA1 of Boston Housing file\n",
    "if HOUSING_SHA1 == open(SHA.sha1, HOUSING_NAME)\n",
    "    @info \"SHA1 check of $HOUSING_NAME passed.\"\n",
    "else\n",
    "    error(\"$HOUSING_NAME file has an invalid SHA1. Aborting!\")\n",
    "end"
   ],
   "outputs": [],
   "metadata": {}
  },
  {
   "cell_type": "code",
   "execution_count": null,
   "source": [
    "# Read Boston Housing CSV\n",
    "housing_ref = CSV.read(HOUSING_NAME, DataFrame,\n",
    "                       header=[:CRIM, :ZN, :INDUS, :CHAS, :NOX, :RM, :AGE,\n",
    "                               :DIS, :RAD, :TAX, :PTRATIO, :B, :LSTAT, :MEDV],\n",
    "                       delim=' ', ignorerepeated=true, tasks=1)\n",
    "\n",
    "# We make a copy as we will modify housing variable later\n",
    "# However, we want to keep housing_ref untouched in case we make some error to avoid reloading it repeatedly\n",
    "housing = copy(housing_ref)"
   ],
   "outputs": [],
   "metadata": {}
  },
  {
   "cell_type": "code",
   "execution_count": null,
   "source": [
    "# Check basic statistics of all columns\n",
    "describe(housing)"
   ],
   "outputs": [],
   "metadata": {}
  },
  {
   "cell_type": "code",
   "execution_count": null,
   "source": [
    "# Find nominal variables (output of describe(housing) shows us that integer columns contin only a few values)\n",
    "nominal = names(housing, Int)"
   ],
   "outputs": [],
   "metadata": {}
  },
  {
   "cell_type": "code",
   "execution_count": null,
   "source": [
    "# Find continuous variables\n",
    "continuous = names(housing, Float64)"
   ],
   "outputs": [],
   "metadata": {}
  },
  {
   "cell_type": "code",
   "execution_count": null,
   "source": [
    "# Inspect distribution of nominal variables\n",
    "foreach(name -> println(\"\\n\", proptable(housing, name)), nominal)"
   ],
   "outputs": [],
   "metadata": {}
  },
  {
   "cell_type": "code",
   "execution_count": null,
   "source": [
    "# Check distributions of numeric features\n",
    "\n",
    "# First define a helper function for drawing of a single histogram\n",
    "histogram_helper(column_name) =\n",
    "    histogram(housing[!, column_name], xlabel=column_name, legend=false)\n",
    "\n",
    "# Compose a grid of histograms in a single plot\n",
    "plot(map(x -> histogram_helper(x), continuous)..., layout=grid(3, 4), size=(800,500))"
   ],
   "outputs": [],
   "metadata": {}
  },
  {
   "cell_type": "code",
   "execution_count": null,
   "source": [
    "# Based on histogram plot, MEDV is censored or inaccurate on upper limit - 16 observations have value equal to 50.0\n",
    "# In our project we decide to just remove these values\n",
    "\n",
    "# Remove rows from housing in-place (! marks in-place operation)\n",
    "# Note that 16 rows got removed\n",
    "filter!(:MEDV => <(50.0), housing)"
   ],
   "outputs": [],
   "metadata": {}
  },
  {
   "cell_type": "code",
   "execution_count": null,
   "source": [
    "#Check variables distributions after filtering the observations\n",
    "plot(map(x -> histogram_helper(x), continuous)..., layout = grid(3, 4), size=(800,500))"
   ],
   "outputs": [],
   "metadata": {}
  },
  {
   "cell_type": "code",
   "execution_count": null,
   "source": [
    "#Calculate Kendall's correlation\n",
    "housing_cor = corkendall(Matrix(housing))"
   ],
   "outputs": [],
   "metadata": {}
  },
  {
   "cell_type": "code",
   "execution_count": null,
   "source": [
    "# Get the information how we should reorder rows of housing_cor\n",
    "# Remember that MEDV is the last variable in our data set\n",
    "ord = sortperm(housing_cor[:, end])\n",
    "\n",
    "# Plot a heatmap, where both axis labels and correlation matrix are reordered by correlation with MEDV\n",
    "heatmap(names(housing)[ord],\n",
    "        names(housing)[ord],\n",
    "        housing_cor[ord, ord],\n",
    "        c=:balance)"
   ],
   "outputs": [],
   "metadata": {}
  },
  {
   "cell_type": "code",
   "execution_count": null,
   "source": [
    "# Get information on absolute value of correlation\n",
    "sort(DataFrame(variable = names(housing), cor=housing_cor[:, end]),\n",
    "     :cor, by=abs)"
   ],
   "outputs": [],
   "metadata": {
    "scrolled": true
   }
  },
  {
   "cell_type": "code",
   "execution_count": null,
   "source": [
    "#Additionally check relation of continuous variables visually on scatterplots\n",
    "\n",
    "scatter_helper(column_name) =\n",
    "    scatter(housing[!, column_name], housing.MEDV, xlabel=column_name,\n",
    "            legend=false, smooth=true, ms=1)\n",
    "\n",
    "plot(map(x -> scatter_helper(x), continuous)..., layout=grid(3, 4))"
   ],
   "outputs": [],
   "metadata": {
    "scrolled": true
   }
  },
  {
   "cell_type": "code",
   "execution_count": null,
   "source": [
    "# Remove least correlated feature - B\n",
    "# Again, we do an in-place operation\n",
    "select!(housing, Not(:B))"
   ],
   "outputs": [],
   "metadata": {}
  },
  {
   "cell_type": "code",
   "execution_count": null,
   "source": [
    "# Transform CRIM and DIS - logarithmic transformation\n",
    "# Also bin ZN variable\n",
    "transform!(housing,\n",
    "           :CRIM => ByRow(log), :DIS => ByRow(log), :ZN => ByRow(>(0)),\n",
    "           renamecols=false)"
   ],
   "outputs": [],
   "metadata": {}
  },
  {
   "cell_type": "code",
   "execution_count": null,
   "source": [
    "# Recalculate the list of continuous variables\n",
    "continuous = names(housing, Float64)"
   ],
   "outputs": [],
   "metadata": {}
  },
  {
   "cell_type": "code",
   "execution_count": null,
   "source": [
    "# Plot histogram again\n",
    "# We see that now distributions of variables look better\n",
    "plot(map(x -> histogram_helper(x), continuous)..., layout=grid(2, 5), size=(800,500))"
   ],
   "outputs": [],
   "metadata": {}
  },
  {
   "cell_type": "code",
   "execution_count": null,
   "source": [
    "# Plot scatterplot again\n",
    "plot(map(x -> scatter_helper(x), continuous)..., layout=grid(2, 5))"
   ],
   "outputs": [],
   "metadata": {}
  },
  {
   "cell_type": "code",
   "execution_count": null,
   "source": [
    "# Declare auxilary function for calculating bootstrap 90% confidence interval\n",
    "function gen_meanCI(x)\n",
    "    boot = [mean(rand(x, length(x))) for _ in 1:10_000]\n",
    "    return (mean=mean(x), q5=quantile(boot, 0.05), q95=quantile(boot, 0.95))\n",
    "end"
   ],
   "outputs": [],
   "metadata": {}
  },
  {
   "cell_type": "code",
   "execution_count": null,
   "source": [
    "# Mean and 90% CI ends per group for :CHAS variable\n",
    "mean_chas = combine(groupby(housing, :CHAS, sort=true), :MEDV => gen_meanCI => AsTable)"
   ],
   "outputs": [],
   "metadata": {}
  },
  {
   "cell_type": "code",
   "execution_count": null,
   "source": [
    "# Mean and 90% CI ends per group for :RAD variable\n",
    "mean_rad = combine(groupby(housing, :RAD, sort=true), :MEDV => gen_meanCI => AsTable)"
   ],
   "outputs": [],
   "metadata": {}
  },
  {
   "cell_type": "code",
   "execution_count": null,
   "source": [
    "# Mean and 90% CI ends per group for :ZN variable\n",
    "mean_zn = combine(groupby(housing, :ZN, sort = true), :MEDV => gen_meanCI => AsTable)"
   ],
   "outputs": [],
   "metadata": {}
  },
  {
   "cell_type": "code",
   "execution_count": null,
   "source": [
    "# Plot the data frames in a single plot\n",
    "# You could use @df macro from StatsPlots.jl package to save you some typing here\n",
    "plot(plot(mean_chas.CHAS, mean_chas.mean,\n",
    "          yerror=(mean_chas.mean - mean_chas.q5, mean_chas.q95 - mean_chas.mean),\n",
    "          label=nothing, title=\"CHAS\", seriestype=:scatter),\n",
    "     plot(mean_rad.RAD, mean_rad.mean,\n",
    "          yerror=(mean_rad.mean - mean_rad.q5, mean_rad.q95 - mean_rad.mean),\n",
    "          label=nothing, title=\"RAD\", seriestype=:scatter),\n",
    "     plot(mean_zn.ZN, mean_zn.mean,\n",
    "          yerror=(mean_zn.mean - mean_zn.q5, mean_zn.q95 - mean_zn.mean),\n",
    "          label=nothing, title=\"ZN\", seriestype=:scatter),\n",
    "    layout=grid(1, 3))"
   ],
   "outputs": [],
   "metadata": {}
  },
  {
   "cell_type": "code",
   "execution_count": null,
   "source": [
    "# Remove variable RAD as we do not see its interpretable relationship with :MEDV target variable\n",
    "select!(housing, Not(:RAD))\n",
    "\n",
    "# Have a look at the data after cleaning\n",
    "describe(housing)"
   ],
   "outputs": [],
   "metadata": {}
  },
  {
   "cell_type": "code",
   "execution_count": null,
   "source": [
    "# Save clean dataset as Arrow file\n",
    "Arrow.write(\"housing.arrow\", housing)"
   ],
   "outputs": [],
   "metadata": {}
  }
 ],
 "metadata": {
  "kernelspec": {
   "display_name": "Julia 1.6.0",
   "language": "julia",
   "name": "julia-1.6"
  },
  "language_info": {
   "file_extension": ".jl",
   "mimetype": "application/julia",
   "name": "julia",
   "version": "1.6.0"
  },
  "toc": {
   "base_numbering": 1,
   "nav_menu": {},
   "number_sections": true,
   "sideBar": true,
   "skip_h1_title": false,
   "title_cell": "Table of Contents",
   "title_sidebar": "Contents",
   "toc_cell": false,
   "toc_position": {},
   "toc_section_display": true,
   "toc_window_display": false
  }
 },
 "nbformat": 4,
 "nbformat_minor": 4
}