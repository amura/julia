{
 "cells": [
  {
   "cell_type": "code",
   "execution_count": null,
   "metadata": {},
   "outputs": [],
   "source": [
    "# IMPORTANT - *** fields are placeholders for your code. If you are not sure what they should contain, check the full solution."
   ]
  },
  {
   "cell_type": "code",
   "execution_count": null,
   "metadata": {},
   "outputs": [],
   "source": [
    "# First make sure to install all required packages.\n",
    "# You can do it by running the following command:"
   ]
  },
  {
   "cell_type": "code",
   "execution_count": null,
   "metadata": {},
   "outputs": [],
   "source": [
    "# ]add Arrow CSV DataFrames Plots"
   ]
  },
  {
   "cell_type": "code",
   "execution_count": null,
   "metadata": {},
   "outputs": [],
   "source": [
    "# If you launched Jupyter in directory with attached Project.toml and Manifest.toml\n",
    "# use below command to install required packages with fixed versions. \n",
    "# Check Project introduction for more information."
   ]
  },
  {
   "cell_type": "code",
   "execution_count": null,
   "metadata": {},
   "outputs": [],
   "source": [
    "# ] instantiate"
   ]
  },
  {
   "cell_type": "code",
   "execution_count": null,
   "metadata": {},
   "outputs": [],
   "source": [
    "# Import required libraries\n",
    "import Downloads\n",
    "import SHA\n",
    "using Arrow\n",
    "using CSV\n",
    "using DataFrames\n",
    "using Plots\n",
    "using Statistics"
   ]
  },
  {
   "cell_type": "markdown",
   "metadata": {},
   "source": [
    "# Sales data"
   ]
  },
  {
   "cell_type": "code",
   "execution_count": null,
   "metadata": {},
   "outputs": [],
   "source": [
    "# Define URL to Sales data and expected SHA1\n",
    "const SALES_URL = \"https://archive.ics.uci.edu/ml/machine-learning-databases/\" *\n",
    "                    \"00396/Sales_Transactions_Dataset_Weekly.csv\"\n",
    "const SALES_NAME = \"sales.csv\"\n",
    "const SALES_SHA1 = [0x07, 0xa7, 0x28, 0x88, 0x1e, \n",
    "                    0xd7, 0x06, 0xac, 0xfc, 0x88, \n",
    "                    0x04, 0xb6, 0xce, 0x7d, 0x06, \n",
    "                    0xca, 0x2c, 0x65, 0x11, 0x90];"
   ]
  },
  {
   "cell_type": "code",
   "execution_count": null,
   "metadata": {},
   "outputs": [],
   "source": [
    "# Download Sales data if not exists\n",
    "if ***\n",
    "    @info \"$SALES_NAME found. Skipping download.\"\n",
    "else\n",
    "    @info \"$SALES_NAME not found. Fetching from source.\"\n",
    "    ***\n",
    "end"
   ]
  },
  {
   "cell_type": "code",
   "execution_count": null,
   "metadata": {},
   "outputs": [],
   "source": [
    "# Check integrity and version of Sales data using SHA1 value\n",
    "if SALES_SHA1 == ***\n",
    "    @info \"SHA1 check of $SALES_NAME passed.\"\n",
    "else\n",
    "    error(\"$SALES_NAME file has an invalid SHA1. Aborting!\")\n",
    "end"
   ]
  },
  {
   "cell_type": "code",
   "execution_count": null,
   "metadata": {},
   "outputs": [],
   "source": [
    "# Allow displaying up to 1200 characters wide tables and up to 20 rows of data\n",
    "ENV[\"***\"] = 1200\n",
    "ENV[\"***\"] = 200;"
   ]
  },
  {
   "cell_type": "code",
   "execution_count": null,
   "metadata": {},
   "outputs": [],
   "source": [
    "# Read the CSV file\n",
    "sales_ref = ***(SALES_NAME, DataFrame, delim=',', ignorerepeated=true, tasks=1)\n",
    "\n",
    "# We make a copy as we will modify housing variable later\n",
    "# However, we want to keep sales_ref untouched in case we make some error to avoid reloading it repeatedly\n",
    "sales = copy(sales_ref)"
   ]
  },
  {
   "cell_type": "code",
   "execution_count": null,
   "metadata": {},
   "outputs": [],
   "source": [
    "# Check basic statistics of all columns\n",
    "***(sales)"
   ]
  },
  {
   "cell_type": "code",
   "execution_count": null,
   "metadata": {},
   "outputs": [],
   "source": [
    "# Reset the number of rows printed\n",
    "ENV[\"***\"] = 20"
   ]
  },
  {
   "cell_type": "code",
   "execution_count": null,
   "metadata": {},
   "outputs": [],
   "source": [
    "# Inspect all the column names in Sales data\n",
    "print(names(sales))"
   ]
  },
  {
   "cell_type": "markdown",
   "metadata": {},
   "source": [
    "It seems that normalization scheme applied was to scale each product to [0;1] inverval\n",
    "\n",
    "We check if this was done properly"
   ]
  },
  {
   "cell_type": "code",
   "execution_count": null,
   "metadata": {},
   "outputs": [],
   "source": [
    "# First check that :MIN and :MAX are calculated properly\n",
    "combine(sales, r\"***\" => ByRow(***) => :MIN, r\"***\" => ByRow(***) => :MAX) == select(sales, [:MIN, :MAX])"
   ]
  },
  {
   "cell_type": "code",
   "execution_count": null,
   "metadata": {},
   "outputs": [],
   "source": [
    "# Now check if normalization is correct\n",
    "# Indeed the error is less than 0.01, which is rounding in the passed data\n",
    "extrema((Matrix(select(sales, r\"^W\")) .- ***) ./ (*** .- ***) .-\n",
    "        Matrix(select(sales, r\"^Normalized\")))"
   ]
  },
  {
   "cell_type": "code",
   "execution_count": null,
   "metadata": {},
   "outputs": [],
   "source": [
    "# Check the properties of the proposed normalization\n",
    "distr_norm = select(sales, AsTable(r\"***\") .=> ByRow.([***, ***]) .=> [:mean, :std]);\n",
    "\n",
    "plot(histogram(***, label=\"mean\"), histogram(***, label=\"std\"))"
   ]
  },
  {
   "cell_type": "code",
   "execution_count": null,
   "metadata": {},
   "outputs": [],
   "source": [
    "# Investigate the time series with lowest and highest means\n",
    "plot([plot(Vector(sales[row, r\"^Normalized\"]), label=nothing)\n",
    "     for row in [***(distr_norm.mean), ***(distr_norm.mean)]]...)"
   ]
  },
  {
   "cell_type": "code",
   "execution_count": null,
   "metadata": {},
   "outputs": [],
   "source": [
    "# Investigate the time series with lowest and highest standard deviations\n",
    "plot([plot(Vector(sales[row, r\"^Normalized\"]), label=nothing)\n",
    "     for row in [***(distr_norm.std), ***(distr_norm.std)]]...)"
   ]
  },
  {
   "cell_type": "code",
   "execution_count": null,
   "metadata": {},
   "outputs": [],
   "source": [
    "# Transpose the data frame on Product_Code and only keep Wi variables\n",
    "sales_transposed = ***(select(sales, Cols(:***, r\"***\")), :Product_Code)"
   ]
  },
  {
   "cell_type": "code",
   "execution_count": null,
   "metadata": {},
   "outputs": [],
   "source": [
    "# Normalize (standardize) to make mean per product equal to 0 and standard deviation equal to 1 \n",
    "# and drop :Product_Code column\n",
    "sales_norm = mapcols(x -> (x .- *** ./ ***, select(sales_transposed, Not(:Product_Code)))"
   ]
  },
  {
   "cell_type": "code",
   "execution_count": null,
   "metadata": {},
   "outputs": [],
   "source": [
    "# Plot 15 weeks of sales for first 3 products in the dataset\n",
    "plot(transpose(Matrix(sales_norm[***])), xlab=\"Week\", ylab=\"Sales\", markershape = :hexagon, legend=false)"
   ]
  },
  {
   "cell_type": "code",
   "execution_count": null,
   "metadata": {},
   "outputs": [],
   "source": [
    "# Save sales_norm dataset as Arrow file\n",
    "***(\"sales_norm.arrow\", sales_norm)"
   ]
  }
 ],
 "metadata": {
  "kernelspec": {
   "display_name": "Julia 1.6.0",
   "language": "julia",
   "name": "julia-1.6"
  },
  "language_info": {
   "file_extension": ".jl",
   "mimetype": "application/julia",
   "name": "julia",
   "version": "1.6.0"
  },
  "toc": {
   "base_numbering": 1,
   "nav_menu": {},
   "number_sections": true,
   "sideBar": true,
   "skip_h1_title": false,
   "title_cell": "Table of Contents",
   "title_sidebar": "Contents",
   "toc_cell": false,
   "toc_position": {},
   "toc_section_display": true,
   "toc_window_display": false
  }
 },
 "nbformat": 4,
 "nbformat_minor": 4
}
