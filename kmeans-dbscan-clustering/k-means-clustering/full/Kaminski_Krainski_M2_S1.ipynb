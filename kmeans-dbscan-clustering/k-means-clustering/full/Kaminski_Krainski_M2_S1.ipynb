{
 "cells": [
  {
   "cell_type": "code",
   "execution_count": null,
   "metadata": {},
   "outputs": [],
   "source": [
    "# First make sure to install all required packages.\n",
    "# You can do it by running the following command:"
   ]
  },
  {
   "cell_type": "code",
   "execution_count": null,
   "metadata": {},
   "outputs": [],
   "source": [
    "# ]add Arrow CSV DataFrames Plots Clustering Distances FreqTables"
   ]
  },
  {
   "cell_type": "code",
   "execution_count": null,
   "metadata": {},
   "outputs": [],
   "source": [
    "# If you launched Jupyter in directory with attached Project.toml and Manifest.toml\n",
    "# use below command to install required packages with fixed versions. \n",
    "# Check Project introduction for more information."
   ]
  },
  {
   "cell_type": "code",
   "execution_count": null,
   "metadata": {},
   "outputs": [],
   "source": [
    "#] instantiate"
   ]
  },
  {
   "cell_type": "code",
   "execution_count": null,
   "metadata": {},
   "outputs": [],
   "source": [
    "# Import required libraries\n",
    "using Arrow\n",
    "using CSV\n",
    "using DataFrames\n",
    "using Plots\n",
    "using Clustering\n",
    "using Distances\n",
    "using Random\n",
    "using Statistics\n",
    "using FreqTables"
   ]
  },
  {
   "cell_type": "code",
   "execution_count": null,
   "metadata": {},
   "outputs": [],
   "source": [
    "# Read clean dataset from Arrow file into DataFrame\n",
    "sales_norm = DataFrame(Arrow.Table(\"sales_norm.arrow\"))"
   ]
  },
  {
   "cell_type": "code",
   "execution_count": null,
   "metadata": {},
   "outputs": [],
   "source": [
    "# Convert DataFrame to Matrix and make sure that one product is one column in the resulting matrix\n",
    "cluster_data = Matrix(sales_norm)"
   ]
  },
  {
   "cell_type": "code",
   "execution_count": null,
   "metadata": {},
   "outputs": [],
   "source": [
    "# Check the extreme values of mean of each column - should be really close to 0\n",
    "extrema(mean(cluster_data, dims=1))"
   ]
  },
  {
   "cell_type": "code",
   "execution_count": null,
   "metadata": {},
   "outputs": [],
   "source": [
    "# Check the extreme values of standard deviation of each column - should be really close to 1\n",
    "extrema(std(cluster_data, dims=1))"
   ]
  },
  {
   "cell_type": "code",
   "execution_count": null,
   "metadata": {},
   "outputs": [],
   "source": [
    "# Set seed for reproducibility\n",
    "# You may not use seed in your solution and receive slightly different \n",
    "# results due to probabilistic character of K-means algorithm\n",
    "Random.seed!(42)"
   ]
  },
  {
   "cell_type": "code",
   "execution_count": null,
   "metadata": {},
   "outputs": [],
   "source": [
    "# Produce clustering for 2-20 clusters with kmpp (K-means++) seeding\n",
    "res_kmpp = [kmeans(cluster_data, i, init=:kmpp) for i in 2:20];"
   ]
  },
  {
   "cell_type": "code",
   "execution_count": null,
   "metadata": {},
   "outputs": [],
   "source": [
    "# Produce clustering for 2-20 clusters with rand (random) seeding\n",
    "res_rand = [kmeans(cluster_data, i, init=:rand) for i in 2:20];"
   ]
  },
  {
   "cell_type": "code",
   "execution_count": null,
   "metadata": {},
   "outputs": [],
   "source": [
    "# Check how many iterations both seeding algorithm required before converging for all 'k' values\n",
    "# We may expected K-means++ to converge faster due to 'intelligent' seeding, but this is not the case for our task\n",
    "plot(2:20, hcat(getfield.(res_kmpp,:iterations), getfield.(res_rand,:iterations)),\n",
    "    xlab=\"Number of clusters\", ylab=\"Iterations until convergence\", label=[\"K-means++\" \"Random seeding\"])"
   ]
  },
  {
   "cell_type": "code",
   "execution_count": null,
   "metadata": {},
   "outputs": [],
   "source": [
    "# Visualize total cost (Sum of Squared Errors) for both seeding algorithms and all values of 'k'\n",
    "# We can choose proper number of cluster using 'elbow' method\n",
    "# The curve is really smooth and it's hard to pick the proper number of clusters\n",
    "# This is a common in common situation in practie\n",
    "# We'll use 4 clusters as we want to interpret the results with reasonable number of groups\n",
    "# and there seems to be a slight change of slope there\n",
    "plot(2:20, hcat(getfield.(res_kmpp,:totalcost), getfield.(res_rand,:totalcost)), \n",
    "    xlab=\"Number of clusters\", ylab=\"Cost (SSE)\", label=[\"K-means++\" \"Random seeding\"])"
   ]
  },
  {
   "cell_type": "code",
   "execution_count": null,
   "metadata": {},
   "outputs": [],
   "source": [
    "# Check how similar the clusterings for random seeding and k-means++ are\n",
    "freqtable(res_kmpp[3].assignments, res_rand[3].assignments, )\n",
    "# The results are quite consistent, but not identical\n",
    "# therefore we decide to run the k-means algorithm for 4 clusters 1000 times to get the best assignment"
   ]
  },
  {
   "cell_type": "code",
   "execution_count": null,
   "metadata": {},
   "outputs": [],
   "source": [
    "# Produce clustering for 4 clusters with kmpp (K-means++) seeding\n",
    "kmpp4 = [kmeans(cluster_data, 4, init=:kmpp) for _ in 1:1000];"
   ]
  },
  {
   "cell_type": "code",
   "execution_count": null,
   "metadata": {},
   "outputs": [],
   "source": [
    "# Check the coefficient of variation for produced clusterings\n",
    "tc_kmpp4 = getfield.(kmpp4, :totalcost);\n",
    "string(\"Coefficient of variation: \", std(tc_kmpp4)/mean(tc_kmpp4)*100, \"%\")"
   ]
  },
  {
   "cell_type": "code",
   "execution_count": null,
   "metadata": {},
   "outputs": [],
   "source": [
    "# Produce clustering for 4 clusters with random seeding\n",
    "krand4 = [kmeans(cluster_data, 4, init=:rand) for _ in 1:1000];"
   ]
  },
  {
   "cell_type": "code",
   "execution_count": null,
   "metadata": {},
   "outputs": [],
   "source": [
    "# Check the coefficient of variation for produced clusterings\n",
    "tc_krand4 = getfield.(krand4, :totalcost);\n",
    "string(\"Coefficient of variation: \", std(tc_krand4)/mean(tc_krand4)*100, \"%\")"
   ]
  },
  {
   "cell_type": "code",
   "execution_count": null,
   "metadata": {},
   "outputs": [],
   "source": [
    "# Pick the best clustering based on conducted evaluations\n",
    "opt_clustering = if minimum(tc_kmpp4) <= minimum(tc_krand4)\n",
    "    kmpp4[argmin(tc_kmpp4)]\n",
    "else\n",
    "    krand4[argmin(tc_krand4)]\n",
    "end;"
   ]
  },
  {
   "cell_type": "code",
   "execution_count": null,
   "metadata": {},
   "outputs": [],
   "source": [
    "# Check the members count in each cluster\n",
    "# The clusters look quite balanced\n",
    "freqtable(opt_clustering.assignments)"
   ]
  },
  {
   "cell_type": "code",
   "execution_count": null,
   "metadata": {},
   "outputs": [],
   "source": [
    "# Plot cluster averages\n",
    "# Each cluster has some distinct characteristic we should summarize for the recipients of the report\n",
    "plot(hcat([mean(cluster_data[:, opt_clustering.assignments .== i], dims=2) for i in 1:4]...), \n",
    "    xlab=\"Week\", ylab=\"Normalized sales\", labels=[1 2 3 4], linewidth=2)"
   ]
  },
  {
   "cell_type": "code",
   "execution_count": null,
   "metadata": {},
   "outputs": [],
   "source": [
    "# Plot cluster standard deviations\n",
    "# No huge difference here, but we can spot that some clusters have higher variability in general\n",
    "plot(hcat([std(cluster_data[:, opt_clustering.assignments .== i], dims=2) for i in 1:4]...), \n",
    "    xlab=\"Week\", ylab=\"Normalized sales\", labels=[1 2 3 4], linewidth=2)"
   ]
  },
  {
   "cell_type": "code",
   "execution_count": null,
   "metadata": {},
   "outputs": [],
   "source": [
    "# Save k-means assignments to the text file\n",
    "open(\"kmeans_assignments.txt\", \"w\") do io\n",
    "  foreach(e -> println(io, e), opt_clustering.assignments)\n",
    "end"
   ]
  },
  {
   "cell_type": "markdown",
   "metadata": {},
   "source": [
    "**Analysis of clustering results**\n",
    "\n",
    "Based on clustering results evaluation we produced 4 clusters for all products in the dataset.\n",
    "\n",
    "Each cluster has distinct characteristic summarized below:\n",
    "* Cluster 1 sales were increasing steadily until mid-year when they dropped to extremely low values. After that we again see a steady increase in sales. We should investigate what exactly happend around the spike period - maybe there was a new hot release (initial increase in sales), but it was faulty and our customers resigned from the product?\n",
    "* Cluster 2 is similar to Cluster 3 as it has a positive trend for sales and absolute sales values are on similar level. However there is a rapid raise mid-year that is followed by also sudden drop in sales to the previous level. Also there is huge sales boost at the end of tracked period. That group of products are really popular recently for some reason.\n",
    "* Cluster 3 is the most stable, there is no spike in the sales and it expose slight increasing trend\n",
    "* Cluster 4 maintained high, steady sales for 20 weeks, which was followed by sharp drop in revenue. Sales were recovering after the drop, but we can spot another decrease during last weeks. Maybe our other products are consuming sales for that cluster?\n",
    "\n",
    "Variance analysis revealed that there is no signifanct difference in clusters' sales stability. Cluster 2 and 3 are however switiching from really small variance at the beginning of the year to high variance mid-year and at the end of the period. "
   ]
  }
 ],
 "metadata": {
  "kernelspec": {
   "display_name": "Julia 1.6.0",
   "language": "julia",
   "name": "julia-1.6"
  },
  "language_info": {
   "file_extension": ".jl",
   "mimetype": "application/julia",
   "name": "julia",
   "version": "1.6.0"
  },
  "toc": {
   "base_numbering": 1,
   "nav_menu": {},
   "number_sections": true,
   "sideBar": true,
   "skip_h1_title": false,
   "title_cell": "Table of Contents",
   "title_sidebar": "Contents",
   "toc_cell": false,
   "toc_position": {},
   "toc_section_display": true,
   "toc_window_display": false
  }
 },
 "nbformat": 4,
 "nbformat_minor": 4
}
