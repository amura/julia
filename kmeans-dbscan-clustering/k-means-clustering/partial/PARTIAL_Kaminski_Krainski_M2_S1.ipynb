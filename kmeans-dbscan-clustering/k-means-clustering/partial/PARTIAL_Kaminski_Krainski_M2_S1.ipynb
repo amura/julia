{
 "cells": [
  {
   "cell_type": "code",
   "execution_count": null,
   "metadata": {},
   "outputs": [],
   "source": [
    "# IMPORTANT - *** fields are placeholders for your code. If you are not sure what they should contain, check the full solution."
   ]
  },
  {
   "cell_type": "code",
   "execution_count": null,
   "metadata": {},
   "outputs": [],
   "source": [
    "# First make sure to install all required packages.\n",
    "# You can do it by running the following command:"
   ]
  },
  {
   "cell_type": "code",
   "execution_count": null,
   "metadata": {},
   "outputs": [],
   "source": [
    "# ]add Arrow CSV DataFrames Plots Clustering Distances FreqTables"
   ]
  },
  {
   "cell_type": "code",
   "execution_count": null,
   "metadata": {},
   "outputs": [],
   "source": [
    "# If you launched Jupyter in directory with attached Project.toml and Manifest.toml\n",
    "# use below command to install required packages with fixed versions. \n",
    "# Check Project introduction for more information."
   ]
  },
  {
   "cell_type": "code",
   "execution_count": null,
   "metadata": {},
   "outputs": [],
   "source": [
    "# ] instantiate"
   ]
  },
  {
   "cell_type": "code",
   "execution_count": null,
   "metadata": {},
   "outputs": [],
   "source": [
    "# Import required libraries\n",
    "using Arrow\n",
    "using CSV\n",
    "using DataFrames\n",
    "using Plots\n",
    "using Clustering\n",
    "using Distances\n",
    "using Random\n",
    "using Statistics\n",
    "using FreqTables"
   ]
  },
  {
   "cell_type": "code",
   "execution_count": null,
   "metadata": {},
   "outputs": [],
   "source": [
    "# Read clean dataset from Arrow file into DataFrame\n",
    "sales_norm = DataFrame(***(\"sales_norm.arrow\"))"
   ]
  },
  {
   "cell_type": "code",
   "execution_count": null,
   "metadata": {},
   "outputs": [],
   "source": [
    "# Convert DataFrame to Matrix and make sure that one product is one column in the resulting matrix\n",
    "cluster_data = ***(sales_norm)"
   ]
  },
  {
   "cell_type": "code",
   "execution_count": null,
   "metadata": {},
   "outputs": [],
   "source": [
    "# Check the extreme values of mean of each column - should be really close to 0\n",
    "extrema(***(cluster_data, dims=***))"
   ]
  },
  {
   "cell_type": "code",
   "execution_count": null,
   "metadata": {},
   "outputs": [],
   "source": [
    "# Check the extreme values of standard deviation of each column - should be really close to 1\n",
    "extrema(***(cluster_data, dims=***))"
   ]
  },
  {
   "cell_type": "code",
   "execution_count": null,
   "metadata": {},
   "outputs": [],
   "source": [
    "# Set seed for reproducibility\n",
    "# You may not use seed in your solution and receive slightly different \n",
    "# results due to probabilistic character of K-means algorithm\n",
    "Random.seed!(42)"
   ]
  },
  {
   "cell_type": "code",
   "execution_count": null,
   "metadata": {},
   "outputs": [],
   "source": [
    "# Produce clustering for 2-20 clusters with kmpp (K-means++) seeding\n",
    "res_kmpp = [kmeans(***) for i in 2:20];"
   ]
  },
  {
   "cell_type": "code",
   "execution_count": null,
   "metadata": {},
   "outputs": [],
   "source": [
    "# Produce clustering for 2-20 clusters with rand (random) seeding\n",
    "res_rand = [kmeans(***) for i in 2:20];"
   ]
  },
  {
   "cell_type": "code",
   "execution_count": null,
   "metadata": {},
   "outputs": [],
   "source": [
    "# Check how many iterations both seeding algorithm required before converging for all 'k' values\n",
    "plot(2:20, hcat(getfield.(***), getfield.(***)),\n",
    "    xlab=\"Number of clusters\", ylab=\"Iterations until convergence\", label=[\"K-means++\" \"Random seeding\"])"
   ]
  },
  {
   "cell_type": "code",
   "execution_count": null,
   "metadata": {},
   "outputs": [],
   "source": [
    "# Visualize total cost (Sum of Squared Errors) for both seeding algorithms and all values of 'k'\n",
    "# We can choose proper number of cluster using 'elbow' method\n",
    "# The curve is really smooth and it's hard to pick the proper number of clusters which in common situation in practie\n",
    "# We'll use 4 clusters as we want to interpret the results with reasonable number of groups\n",
    "plot(2:20, hcat(***), \n",
    "    xlab = \"Number of clusters\", ylab = \"Cost (SSE)\", label = [\"K-means++\" \"Random seeding\"])"
   ]
  },
  {
   "cell_type": "code",
   "execution_count": null,
   "metadata": {},
   "outputs": [],
   "source": [
    "# Check how similar the clusterings for random seeding and k-means++ are\n",
    "freqtable(res_kmpp[3].***, res_rand[3].***, )\n",
    "# The results are quite consistent, but not identical\n",
    "# therefore we decide to run the k-means algorithm for 4 clusters 1000 times to get the best assignment"
   ]
  },
  {
   "cell_type": "code",
   "execution_count": null,
   "metadata": {},
   "outputs": [],
   "source": [
    "# Produce clustering for 4 clusters with kmpp (K-means++) seeding\n",
    "kmpp4 = [kmeans(cluster_data, 4, init=***) for _ in 1:1000];"
   ]
  },
  {
   "cell_type": "code",
   "execution_count": null,
   "metadata": {},
   "outputs": [],
   "source": [
    "# Check the coefficient of variation for produced clusterings\n",
    "tc_kmpp4 = getfield.(kmpp4, :totalcost);\n",
    "string(\"Coefficient of variation: \", ***(tc_kmpp4)/***(tc_kmpp4)*100, \"%\")"
   ]
  },
  {
   "cell_type": "code",
   "execution_count": null,
   "metadata": {},
   "outputs": [],
   "source": [
    "# Produce clustering for 4 clusters with random seeding\n",
    "krand4 = [kmeans(cluster_data, 4, init=***) for _ in 1:1000];"
   ]
  },
  {
   "cell_type": "code",
   "execution_count": null,
   "metadata": {},
   "outputs": [],
   "source": [
    "# Check the coefficient of variation for produced clusterings\n",
    "tc_krand4 = getfield.(krand4, :totalcost);\n",
    "string(\"Coefficient of variation: \", ***(tc_krand4)/***(tc_krand4)*100, \"%\")"
   ]
  },
  {
   "cell_type": "code",
   "execution_count": null,
   "metadata": {},
   "outputs": [],
   "source": [
    "# Pick the best clustering based on conducted evaluations\n",
    "opt_clustering = if minimum(***) <= minimum(***)\n",
    "    kmpp4[argmin(tc_kmpp4)]\n",
    "else\n",
    "    krand4[argmin(tc_krand4)]\n",
    "end;"
   ]
  },
  {
   "cell_type": "code",
   "execution_count": null,
   "metadata": {},
   "outputs": [],
   "source": [
    "# Check the members count in each cluster\n",
    "freqtable(opt_clustering.***)"
   ]
  },
  {
   "cell_type": "code",
   "execution_count": null,
   "metadata": {},
   "outputs": [],
   "source": [
    "# Plot cluster averages\n",
    "# Each cluster has some distinct characteristic we should summarize for the recipients of the report\n",
    "plot(hcat([mean(cluster_data[:, *** .== ***], dims=2) for i in 1:4]...), \n",
    "    xlab=\"Week\", ylab=\"Normalized sales\", labels=[1 2 3 4], linewidth=2)"
   ]
  },
  {
   "cell_type": "code",
   "execution_count": null,
   "metadata": {},
   "outputs": [],
   "source": [
    "# Plot cluster standard deviations\n",
    "# No huge difference here, but we can spot that some clusters have higher variability in general\n",
    "plot(hcat([std(cluster_data[:, *** .== ***], dims=2) for i in 1:4]...), \n",
    "    xlab=\"Week\", ylab=\"Normalized sales\", labels=[1 2 3 4], linewidth=2)"
   ]
  },
  {
   "cell_type": "code",
   "execution_count": null,
   "metadata": {},
   "outputs": [],
   "source": [
    "# Save k-means assignments to the text file\n",
    "open(\"kmeans_assignments.txt\", ***) do io\n",
    "  for e in opt_clustering.assignments\n",
    "    println(io, ***(e))\n",
    "  end\n",
    "end"
   ]
  },
  {
   "cell_type": "markdown",
   "metadata": {},
   "source": [
    "**Analysis of clustering results**\n",
    "\n",
    "Based on clustering results evaluation we produced 4 clusters for all products in the dataset.\n",
    "\n",
    "Each cluster has distinct characteristic summarized below:\n",
    "* Cluster 1 ***\n",
    "* Cluster 2 ***\n",
    "* Cluster 3 ***\n",
    "* Cluster 4 ***\n",
    "\n",
    "Variance analysis revealed that ***"
   ]
  }
 ],
 "metadata": {
  "kernelspec": {
   "display_name": "Julia 1.6.0",
   "language": "julia",
   "name": "julia-1.6"
  },
  "language_info": {
   "file_extension": ".jl",
   "mimetype": "application/julia",
   "name": "julia",
   "version": "1.6.0"
  },
  "toc": {
   "base_numbering": 1,
   "nav_menu": {},
   "number_sections": true,
   "sideBar": true,
   "skip_h1_title": false,
   "title_cell": "Table of Contents",
   "title_sidebar": "Contents",
   "toc_cell": false,
   "toc_position": {},
   "toc_section_display": true,
   "toc_window_display": false
  }
 },
 "nbformat": 4,
 "nbformat_minor": 4
}
