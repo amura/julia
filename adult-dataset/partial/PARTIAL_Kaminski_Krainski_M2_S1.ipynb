{
 "cells": [
  {
   "cell_type": "code",
   "execution_count": null,
   "metadata": {},
   "outputs": [],
   "source": [
    "# IMPORTANT - *** fields are placeholders for your code. If you are not sure what they should contain, check the full solution."
   ]
  },
  {
   "cell_type": "code",
   "execution_count": null,
   "metadata": {},
   "outputs": [],
   "source": [
    "# First make sure to install all required packages.\n",
    "# You can do it by running the following command:"
   ]
  },
  {
   "cell_type": "code",
   "execution_count": null,
   "metadata": {},
   "outputs": [],
   "source": [
    "# ]add Arrow CSV DataFrames Plots FreqTables StatsBase Chain"
   ]
  },
  {
   "cell_type": "code",
   "execution_count": null,
   "metadata": {},
   "outputs": [],
   "source": [
    "# If you launched Jupyter in directory with attached Project.toml and Manifest.toml\n",
    "# use below command to install required packages with fixed versions. \n",
    "# Check Project introduction for more information."
   ]
  },
  {
   "cell_type": "code",
   "execution_count": null,
   "metadata": {},
   "outputs": [],
   "source": [
    "# ] instantiate"
   ]
  },
  {
   "cell_type": "code",
   "execution_count": null,
   "metadata": {},
   "outputs": [],
   "source": [
    "# Import required libraries\n",
    "import Downloads\n",
    "import SHA\n",
    "using Arrow\n",
    "using Chain\n",
    "using CSV\n",
    "using DataFrames\n",
    "using Plots\n",
    "using FreqTables\n",
    "using Statistics\n",
    "using StatsBase"
   ]
  },
  {
   "cell_type": "markdown",
   "metadata": {},
   "source": [
    "# Adult"
   ]
  },
  {
   "cell_type": "code",
   "execution_count": null,
   "metadata": {},
   "outputs": [],
   "source": [
    "# Define URL to Adult data and expected SHA1\n",
    "const ADULT_TRAIN = \"https://archive.ics.uci.edu/ml/\" *\n",
    "                    \"machine-learning-databases/adult/adult.data\"\n",
    "const ADULT_TRAIN_NAME = \"adult_train.txt\"\n",
    "\n",
    "const ADULT_TRAIN_SHA1 = [0xee, 0x86, 0xbb, 0xe5, 0x56,\n",
    "                          0x57, 0x8f, 0x70, 0x9a, 0xe0,\n",
    "                          0xfd, 0x00, 0x2a, 0xc5, 0x8a,\n",
    "                          0xc9, 0x37, 0x26, 0x48, 0x2f];"
   ]
  },
  {
   "cell_type": "code",
   "execution_count": null,
   "metadata": {},
   "outputs": [],
   "source": [
    "# Download Adult data if not exists\n",
    "if ***\n",
    "    @info \"$ADULT_TRAIN_NAME found. Skipping download.\"\n",
    "else\n",
    "    @info \"$ADULT_TRAIN_NAME not found. Fetching from source.\"\n",
    "    ***\n",
    "end"
   ]
  },
  {
   "cell_type": "code",
   "execution_count": null,
   "metadata": {},
   "outputs": [],
   "source": [
    "# Check SHA1 of Adult file\n",
    "if ADULT_TRAIN_SHA1 == ***\n",
    "    @info \"SHA1 check of $ADULT_TRAIN_NAME passed.\"\n",
    "else\n",
    "    error(\"$ADULT_TRAIN_NAME file has an invalid SHA1. Aborting!\")\n",
    "end"
   ]
  },
  {
   "cell_type": "code",
   "execution_count": null,
   "metadata": {},
   "outputs": [],
   "source": [
    "# We define column names to pass to CSV.read function\n",
    "const COL_NAMES = [:age, :workclass, :fnlwgt, :education, :education_num,\n",
    "                   :marital_status, :occupation, :relationship, :race,\n",
    "                   :sex, :capital_gain, :capital_loss, :hours_per_week,\n",
    "                   :native_country, :target];"
   ]
  },
  {
   "cell_type": "code",
   "execution_count": null,
   "metadata": {
    "scrolled": true
   },
   "outputs": [],
   "source": [
    "# Read Adult CSV\n",
    "adult_train = ***(ADULT_TRAIN_NAME, DataFrame, header=COL_NAMES,\n",
    "                       delim=\", \", missingstring=\"?\", tasks=1)"
   ]
  },
  {
   "cell_type": "code",
   "execution_count": null,
   "metadata": {},
   "outputs": [],
   "source": [
    "# Adjust Jupyter's columns output to 200\n",
    "ENV[\"COLUMNS\"] = 200"
   ]
  },
  {
   "cell_type": "code",
   "execution_count": null,
   "metadata": {},
   "outputs": [],
   "source": [
    "# Adjust Jupyter's rows output to 20\n",
    "ENV[\"LINES\"] = 20"
   ]
  },
  {
   "cell_type": "code",
   "execution_count": null,
   "metadata": {},
   "outputs": [],
   "source": [
    "# Remove irrelevant fnlwgt feature\n",
    "select!(adult_train, ***)"
   ]
  },
  {
   "cell_type": "code",
   "execution_count": null,
   "metadata": {},
   "outputs": [],
   "source": [
    "# Basic statistics of the dataset\n",
    "describe(adult_train)"
   ]
  },
  {
   "cell_type": "code",
   "execution_count": null,
   "metadata": {},
   "outputs": [],
   "source": [
    "# To 'catch' all nominal variables we specify Union of String and Missing types\n",
    "nominal = names(adult_train, ***)"
   ]
  },
  {
   "cell_type": "code",
   "execution_count": null,
   "metadata": {},
   "outputs": [],
   "source": [
    "# This helper function will aggregate each by each category in the column and calculate the counts\n",
    "# Data is passed to the bar function to create a barplot\n",
    "function bar_helper(column_name)\n",
    "    agg = combine(***(adult_train, column_name, sort=true), ***)\n",
    "    bar(string.(agg[!, column_name]), agg.nrow, xlabel=column_name,\n",
    "        legend=false, xrotation = 45)\n",
    "end"
   ]
  },
  {
   "cell_type": "code",
   "execution_count": null,
   "metadata": {
    "scrolled": true
   },
   "outputs": [],
   "source": [
    "# Inspect distribution of nominal variables\n",
    "foreach(display∘bar_helper, nominal)"
   ]
  },
  {
   "cell_type": "code",
   "execution_count": null,
   "metadata": {
    "scrolled": false
   },
   "outputs": [],
   "source": [
    "# Inspect distribution of nominal variables\n",
    "foreach(name -> println(\"\\n\", *** |> sort), nominal)"
   ]
  },
  {
   "cell_type": "code",
   "execution_count": null,
   "metadata": {},
   "outputs": [],
   "source": [
    "# Collapse categories in 'native_country' column\n",
    "adult_train.native_country[Not(***)] .= \"not-United-States\";"
   ]
  },
  {
   "cell_type": "code",
   "execution_count": null,
   "metadata": {},
   "outputs": [],
   "source": [
    "# Check categories count after the operation\n",
    "freqtable(adult_train.native_country)"
   ]
  },
  {
   "cell_type": "code",
   "execution_count": null,
   "metadata": {},
   "outputs": [],
   "source": [
    "#Produce two-way table to learn more about relation between 'maritial_status' and 'relationship' features\n",
    "@chain adult_train begin\n",
    "    groupby([***, ***])\n",
    "    combine(***)\n",
    "    unstack(:marital_status, :relationship, :nrow)\n",
    "end"
   ]
  },
  {
   "cell_type": "code",
   "execution_count": null,
   "metadata": {},
   "outputs": [],
   "source": [
    "# Extract continuous features\n",
    "continuous = names(adult_train, ***)"
   ]
  },
  {
   "cell_type": "code",
   "execution_count": null,
   "metadata": {
    "scrolled": false
   },
   "outputs": [],
   "source": [
    "# Define a helper function for drawing of a single histogram\n",
    "histogram_helper(column_name) =\n",
    "    histogram(***)\n",
    "\n",
    "# Compose a grid of histograms in a single plot\n",
    "foreach(x -> display(histogram_helper(x)), continuous)"
   ]
  },
  {
   "cell_type": "code",
   "execution_count": null,
   "metadata": {},
   "outputs": [],
   "source": [
    "# Check how many 'capital_gain' observations are equal to 0\n",
    "***(adult_train.capital_gain .== 0)"
   ]
  },
  {
   "cell_type": "code",
   "execution_count": null,
   "metadata": {},
   "outputs": [],
   "source": [
    "# Check how many 'capital_loss' observations are equal to 0\n",
    "***(adult_train.capital_loss .== 0)"
   ]
  },
  {
   "cell_type": "code",
   "execution_count": null,
   "metadata": {},
   "outputs": [],
   "source": [
    "# Check the same mean as above, but grouped by `target`\n",
    "# It seems that wealthy people more often gain money on capital market, but also lose money more often (which seems reasonable)\n",
    "@chain adult_train begin\n",
    "    groupby(***)\n",
    "    combine([:capital_gain, :capital_loss] .=>\n",
    "            (x -> ***) .=>\n",
    "            [:freq0_capital_gain, :freq0_capital_loss])\n",
    "end"
   ]
  },
  {
   "cell_type": "code",
   "execution_count": null,
   "metadata": {},
   "outputs": [],
   "source": [
    "# Save clean dataset as Arrow file\n",
    "***(\"adult_train.arrow\", adult_train)"
   ]
  }
 ],
 "metadata": {
  "kernelspec": {
   "display_name": "Julia 1.6.0",
   "language": "julia",
   "name": "julia-1.6"
  },
  "language_info": {
   "file_extension": ".jl",
   "mimetype": "application/julia",
   "name": "julia",
   "version": "1.6.0"
  },
  "toc": {
   "base_numbering": 1,
   "nav_menu": {},
   "number_sections": true,
   "sideBar": true,
   "skip_h1_title": false,
   "title_cell": "Table of Contents",
   "title_sidebar": "Contents",
   "toc_cell": false,
   "toc_position": {},
   "toc_section_display": true,
   "toc_window_display": false
  }
 },
 "nbformat": 4,
 "nbformat_minor": 4
}
