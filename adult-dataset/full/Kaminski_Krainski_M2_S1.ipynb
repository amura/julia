{
 "cells": [
  {
   "cell_type": "code",
   "execution_count": 1,
   "source": [
    "# First make sure to install all required packages.\n",
    "# You can do it by running the following command:"
   ],
   "outputs": [],
   "metadata": {}
  },
  {
   "cell_type": "code",
   "execution_count": 2,
   "source": [
    "# ]add Arrow CSV DataFrames Plots FreqTables StatsBase Chain"
   ],
   "outputs": [],
   "metadata": {}
  },
  {
   "cell_type": "code",
   "execution_count": 3,
   "source": [
    "# If you launched Jupyter in directory with attached Project.toml and Manifest.toml\n",
    "# use below command to install required packages with fixed versions. \n",
    "# Check Project introduction for more information."
   ],
   "outputs": [],
   "metadata": {}
  },
  {
   "cell_type": "code",
   "execution_count": 4,
   "source": [
    "#] instantiate"
   ],
   "outputs": [],
   "metadata": {}
  },
  {
   "cell_type": "code",
   "execution_count": 5,
   "source": [
    "# Import required libraries\n",
    "import Downloads\n",
    "import SHA\n",
    "using Arrow\n",
    "using Chain\n",
    "using CSV\n",
    "using DataFrames\n",
    "using Plots\n",
    "using FreqTables\n",
    "using Statistics\n",
    "using StatsBase"
   ],
   "outputs": [],
   "metadata": {}
  },
  {
   "cell_type": "markdown",
   "source": [
    "# Adult"
   ],
   "metadata": {}
  },
  {
   "cell_type": "code",
   "execution_count": 6,
   "source": [
    "# Define URL to Adult data and expected SHA1\n",
    "const ADULT_TRAIN = \"https://archive.ics.uci.edu/ml/\" *\n",
    "                    \"machine-learning-databases/adult/adult.data\"\n",
    "const ADULT_TRAIN_NAME = \"adult_train.txt\"\n",
    "\n",
    "const ADULT_TRAIN_SHA1 = [0xee, 0x86, 0xbb, 0xe5, 0x56,\n",
    "                          0x57, 0x8f, 0x70, 0x9a, 0xe0,\n",
    "                          0xfd, 0x00, 0x2a, 0xc5, 0x8a,\n",
    "                          0xc9, 0x37, 0x26, 0x48, 0x2f];"
   ],
   "outputs": [],
   "metadata": {}
  },
  {
   "cell_type": "code",
   "execution_count": 7,
   "source": [
    "# Download Adult data if not exists\n",
    "if isfile(ADULT_TRAIN_NAME)\n",
    "    @info \"$ADULT_TRAIN_NAME found. Skipping download.\"\n",
    "else\n",
    "    @info \"$ADULT_TRAIN_NAME not found. Fetching from source.\"\n",
    "    Downloads.download(ADULT_TRAIN, ADULT_TRAIN_NAME)\n",
    "end"
   ],
   "outputs": [
    {
     "output_type": "stream",
     "name": "stderr",
     "text": [
      "┌ Info: adult_train.txt not found. Fetching from source.\n",
      "└ @ Main In[7]:5\n"
     ]
    }
   ],
   "metadata": {}
  },
  {
   "cell_type": "code",
   "execution_count": null,
   "source": [
    "# Check SHA1 of Adult file\n",
    "if ADULT_TRAIN_SHA1 == open(SHA.sha1, ADULT_TRAIN_NAME)\n",
    "    @info \"SHA1 check of $ADULT_TRAIN_NAME passed.\"\n",
    "else\n",
    "    error(\"$ADULT_TRAIN_NAME file has an invalid SHA1. Aborting!\")\n",
    "end"
   ],
   "outputs": [],
   "metadata": {}
  },
  {
   "cell_type": "code",
   "execution_count": null,
   "source": [
    "# We define column names to pass to CSV.read function\n",
    "const COL_NAMES = [:age, :workclass, :fnlwgt, :education, :education_num,\n",
    "                   :marital_status, :occupation, :relationship, :race,\n",
    "                   :sex, :capital_gain, :capital_loss, :hours_per_week,\n",
    "                   :native_country, :target];"
   ],
   "outputs": [],
   "metadata": {}
  },
  {
   "cell_type": "code",
   "execution_count": null,
   "source": [
    "# Read Adult CSV\n",
    "adult_train = CSV.read(ADULT_TRAIN_NAME, DataFrame, header=COL_NAMES,\n",
    "                       delim=\", \", missingstring=\"?\", tasks=1)\n",
    "adult_train_raw = copy(adult_train)"
   ],
   "outputs": [],
   "metadata": {
    "scrolled": true
   }
  },
  {
   "cell_type": "code",
   "execution_count": null,
   "source": [
    "# Adjust Jupyter's columns output to 200\n",
    "ENV[\"COLUMNS\"] = 200"
   ],
   "outputs": [],
   "metadata": {}
  },
  {
   "cell_type": "code",
   "execution_count": null,
   "source": [
    "# Adjust Jupyter's rows output to 20\n",
    "ENV[\"LINES\"] = 20"
   ],
   "outputs": [],
   "metadata": {}
  },
  {
   "cell_type": "code",
   "execution_count": null,
   "source": [
    "# Remove irrelevant fnlwgt feature\n",
    "select!(adult_train, Not(:fnlwgt))"
   ],
   "outputs": [],
   "metadata": {}
  },
  {
   "cell_type": "code",
   "execution_count": null,
   "source": [
    "# Basic statistics of the dataset\n",
    "describe(adult_train)"
   ],
   "outputs": [],
   "metadata": {}
  },
  {
   "cell_type": "code",
   "execution_count": null,
   "source": [
    "# To 'catch' all nominal variables we specify Union of String and Missing types\n",
    "nominal = names(adult_train, Union{String, Missing})"
   ],
   "outputs": [],
   "metadata": {}
  },
  {
   "cell_type": "code",
   "execution_count": null,
   "source": [
    "# This helper function will aggregate each by each category in the column and calculate the counts\n",
    "# Data is passed to the bar function to create a barplot\n",
    "function bar_helper(column_name)\n",
    "    agg = combine(groupby(adult_train, column_name, sort=true), nrow)\n",
    "    bar(string.(agg[!, column_name]), agg.nrow, xlabel=column_name,\n",
    "        legend=false, xrotation = 45)\n",
    "end"
   ],
   "outputs": [],
   "metadata": {}
  },
  {
   "cell_type": "code",
   "execution_count": null,
   "source": [
    "# Inspect distribution of nominal variables\n",
    "foreach(display∘bar_helper, nominal)"
   ],
   "outputs": [],
   "metadata": {
    "scrolled": true
   }
  },
  {
   "cell_type": "code",
   "execution_count": null,
   "source": [
    "# Inspect distribution of nominal variables\n",
    "foreach(name -> println(\"\\n\", proptable(adult_train, name) |> sort), nominal)"
   ],
   "outputs": [],
   "metadata": {
    "scrolled": false
   }
  },
  {
   "cell_type": "code",
   "execution_count": null,
   "source": [
    "# Collapse categories in 'native_country' column\n",
    "adult_train.native_country[Not(isequal.(adult_train.native_country, \"United-States\"))] .= \"not-United-States\";"
   ],
   "outputs": [],
   "metadata": {}
  },
  {
   "cell_type": "code",
   "execution_count": null,
   "source": [
    "# Check categories count after the operation\n",
    "freqtable(adult_train.native_country)"
   ],
   "outputs": [],
   "metadata": {}
  },
  {
   "cell_type": "code",
   "execution_count": null,
   "source": [
    "#Produce two-way table to learn more about relation between 'maritial_status' and 'relationship' features\n",
    "@chain adult_train begin\n",
    "    groupby([:marital_status, :relationship])\n",
    "    combine(nrow)\n",
    "    unstack(:marital_status, :relationship, :nrow)\n",
    "end"
   ],
   "outputs": [],
   "metadata": {}
  },
  {
   "cell_type": "code",
   "execution_count": null,
   "source": [
    "# Extract continuous features\n",
    "continuous = names(adult_train, Int)"
   ],
   "outputs": [],
   "metadata": {}
  },
  {
   "cell_type": "code",
   "execution_count": null,
   "source": [
    "# Define a helper function for drawing of a single histogram\n",
    "histogram_helper(column_name) =\n",
    "    histogram(adult_train[!, column_name], xlabel=column_name, legend=false)\n",
    "\n",
    "# Compose a grid of histograms in a single plot\n",
    "foreach(x -> display(histogram_helper(x)), continuous)"
   ],
   "outputs": [],
   "metadata": {
    "scrolled": false
   }
  },
  {
   "cell_type": "code",
   "execution_count": null,
   "source": [
    "# Check how many 'capital_gain' observations are equal to 0\n",
    "mean(adult_train.capital_gain .== 0)"
   ],
   "outputs": [],
   "metadata": {}
  },
  {
   "cell_type": "code",
   "execution_count": null,
   "source": [
    "# Check how many 'capital_loss' observations are equal to 0\n",
    "mean(adult_train.capital_loss .== 0)"
   ],
   "outputs": [],
   "metadata": {}
  },
  {
   "cell_type": "code",
   "execution_count": null,
   "source": [
    "# Check the same mean as above, but grouped by `target`\n",
    "# It seems that wealthy people more often gain money on capital market, but also lose money more often (which seems reasonable)\n",
    "@chain adult_train begin\n",
    "    groupby(:target)\n",
    "    combine([:capital_gain, :capital_loss] .=>\n",
    "            (x -> mean(x .== 0)) .=>\n",
    "            [:freq0_capital_gain, :freq0_capital_loss])\n",
    "end"
   ],
   "outputs": [],
   "metadata": {}
  },
  {
   "cell_type": "code",
   "execution_count": null,
   "source": [
    "# Save clean dataset as Arrow file\n",
    "Arrow.write(\"adult_train.arrow\", adult_train)"
   ],
   "outputs": [],
   "metadata": {}
  }
 ],
 "metadata": {
  "kernelspec": {
   "display_name": "Julia 1.6.2",
   "language": "julia",
   "name": "julia-1.6"
  },
  "language_info": {
   "file_extension": ".jl",
   "name": "julia",
   "mimetype": "application/julia",
   "version": "1.6.2"
  },
  "toc": {
   "base_numbering": 1,
   "nav_menu": {},
   "number_sections": true,
   "sideBar": true,
   "skip_h1_title": false,
   "title_cell": "Table of Contents",
   "title_sidebar": "Contents",
   "toc_cell": false,
   "toc_position": {},
   "toc_section_display": true,
   "toc_window_display": false
  }
 },
 "nbformat": 4,
 "nbformat_minor": 4
}