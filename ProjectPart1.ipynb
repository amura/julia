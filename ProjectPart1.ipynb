{
    "cells": [
        {
            "cell_type": "markdown",
            "source": [
                "# Boston housing data\n",
                "1.  CRIM      per capita crime rate by town\n",
                "2.  ZN        proportion of residential land zoned for lots over 25,000 sq.ft.\n",
                "3.  INDUS     proportion of non-retail business acres per town\n",
                "4.  CHAS      Charles River dummy variable (= 1 if tract bounds river; 0 otherwise)\n",
                "5.  NOX       nitric oxides concentration (parts per 10 million)\n",
                "6.  RM        average number of rooms per dwelling\n",
                "7.  AGE       proportion of owner-occupied units built prior to 1940\n",
                "8.  DIS       weighted distances to five Boston employment centres\n",
                "9.  RAD       index of accessibility to radial highways\n",
                "10. TAX      full-value property-tax rate per $10,000\n",
                "11. PTRATIO  pupil-teacher ratio by town\n",
                "12. B        1000(Bk - 0.63)^2 where Bk is the proportion of blacks by town\n",
                "13. LSTAT    % lower status of the population\n",
                "14. MEDV     Median value of owner-occupied homes in $1000's"
            ],
            "metadata": {}
        },
        {
            "cell_type": "markdown",
            "source": [
                "## Julia\n",
                "- Install julia from  https://julialang.org/downloads/\n",
                "- To add packages, switch to package mode by typing `]`, then `add <package>`\n",
                "- Reopen vscode and select Julia kernel\n",
                "- Can activate environment using `activate home_project` and this will create Project and Manifest files"
            ],
            "metadata": {}
        },
        {
            "cell_type": "code",
            "execution_count": 2,
            "source": [
                "# setup environment using toml files in current directory\n",
                "cd(@__DIR__)\n",
                "using Pkg\n",
                "Pkg.activate(\".\")\n",
                "Pkg.add(\"DataFrames\")\n",
                "Pkg.add(\"Plots\")\n",
                "Pkg.add(\"PyPlot\")\n",
                "\n",
                "#Pkg.add(\"StatsPlots\")"
            ],
            "outputs": [
                {
                    "output_type": "stream",
                    "name": "stderr",
                    "text": [
                        "\u001b[32m\u001b[1m  Activating\u001b[22m\u001b[39m environment at `~/ManningLiveProjects/julia/Project.toml`\n",
                        "\u001b[32m\u001b[1m    Updating\u001b[22m\u001b[39m registry at `~/.julia/registries/General`\n",
                        "\u001b[32m\u001b[1m   Resolving\u001b[22m\u001b[39m package versions...\n",
                        "\u001b[32m\u001b[1m  No Changes\u001b[22m\u001b[39m to `~/ManningLiveProjects/julia/Project.toml`\n",
                        "\u001b[32m\u001b[1m  No Changes\u001b[22m\u001b[39m to `~/ManningLiveProjects/julia/Manifest.toml`\n",
                        "\u001b[32m\u001b[1mPrecompiling\u001b[22m\u001b[39m project...\n",
                        "\u001b[32m  ✓ \u001b[39m\u001b[90mPlots\u001b[39m\n",
                        "\u001b[32m  ✓ \u001b[39mStatsPlots\n",
                        "  2 dependencies successfully precompiled in 75 seconds (172 already precompiled)\n",
                        "\u001b[32m\u001b[1m   Resolving\u001b[22m\u001b[39m package versions...\n",
                        "\u001b[32m\u001b[1m    Updating\u001b[22m\u001b[39m `~/ManningLiveProjects/julia/Project.toml`\n",
                        " \u001b[90m [91a5bcdd] \u001b[39m\u001b[92m+ Plots v1.19.4\u001b[39m\n",
                        "\u001b[32m\u001b[1m  No Changes\u001b[22m\u001b[39m to `~/ManningLiveProjects/julia/Manifest.toml`\n",
                        "\u001b[32m\u001b[1m   Resolving\u001b[22m\u001b[39m package versions...\n",
                        "\u001b[32m\u001b[1m   Installed\u001b[22m\u001b[39m PyPlot ─ v2.9.0\n",
                        "\u001b[32m\u001b[1m   Installed\u001b[22m\u001b[39m PyCall ─ v1.92.3\n",
                        "\u001b[32m\u001b[1m    Updating\u001b[22m\u001b[39m `~/ManningLiveProjects/julia/Project.toml`\n",
                        " \u001b[90m [d330b81b] \u001b[39m\u001b[92m+ PyPlot v2.9.0\u001b[39m\n",
                        "\u001b[32m\u001b[1m    Updating\u001b[22m\u001b[39m `~/ManningLiveProjects/julia/Manifest.toml`\n",
                        " \u001b[90m [438e738f] \u001b[39m\u001b[92m+ PyCall v1.92.3\u001b[39m\n",
                        " \u001b[90m [d330b81b] \u001b[39m\u001b[92m+ PyPlot v2.9.0\u001b[39m\n",
                        "\u001b[32m\u001b[1m    Building\u001b[22m\u001b[39m PyCall → `~/.julia/scratchspaces/44cfe95a-1eb2-52ea-b672-e2afdf69b78f/169bb8ea6b1b143c5cf57df6d34d022a7b60c6db/build.log`\n",
                        "\u001b[32m\u001b[1mPrecompiling\u001b[22m\u001b[39m project...\n",
                        "\u001b[32m  ✓ \u001b[39m\u001b[90mPyCall\u001b[39m\n",
                        "\u001b[32m  ✓ \u001b[39mPyPlot\n",
                        "  2 dependencies successfully precompiled in 13 seconds (174 already precompiled)\n"
                    ]
                }
            ],
            "metadata": {}
        },
        {
            "cell_type": "markdown",
            "source": [
                "1.1 Download dataset"
            ],
            "metadata": {}
        },
        {
            "cell_type": "code",
            "execution_count": 2,
            "source": [
                "using Downloads\n",
                "\n",
                "function f()    \n",
                "    if isfile(\"housing.data\") == false\n",
                "        Downloads.download(\"https://archive.ics.uci.edu/ml/machine-learning-databases/housing/housing.data\",\"./housing.data\")\n",
                "        Downloads.download(\"https://archive.ics.uci.edu/ml/machine-learning-databases/housing/housing.names\",\"./housing.names\")\n",
                "    end\n",
                "end\n",
                "\n",
                "f()"
            ],
            "outputs": [],
            "metadata": {}
        },
        {
            "cell_type": "markdown",
            "source": [
                "1.2 Compute and verify hash of downloaded file\n"
            ],
            "metadata": {}
        },
        {
            "cell_type": "code",
            "execution_count": 3,
            "source": [
                "using SHA\n",
                "\n",
                "expected = bytes2hex([0xad, 0xfa, 0x6b, 0x6d, 0xca,\n",
                "0x24, 0xa6, 0x3f, 0xe1, 0x66,\n",
                "0xa9, 0xe7, 0xfa, 0x01, 0xce,\n",
                "0xe4, 0x33, 0x58, 0x57, 0xd1])\n",
                "\n",
                "#open downloaded file and compute hash\n",
                "open(\"housing.data\") do f\n",
                "    result = bytes2hex(sha1(f))\n",
                "    println(\"hash match: \", result == expected, \" = \", result)    \n",
                "end"
            ],
            "outputs": [
                {
                    "output_type": "stream",
                    "name": "stdout",
                    "text": [
                        "hash match: true = adfa6b6dca24a63fe166a9e7fa01cee4335857d1\n"
                    ]
                }
            ],
            "metadata": {}
        },
        {
            "cell_type": "markdown",
            "source": [
                "1.3 Loading data into dataframe: https://github.com/bkamins/\n",
                "Julia-DataFrames-Tutorial"
            ],
            "metadata": {}
        },
        {
            "cell_type": "code",
            "execution_count": 4,
            "source": [
                "# need to install DataFrames package for the following\n",
                "\n",
                "using DataFrames, Random, DelimitedFiles\n",
                "\n",
                "df = DataFrame(readdlm(\"housing.data\", Float64), [:CRIM,:ZN,:INDUS,:CHAS,:NOX,:RM,:AGE,:DIS,:RAD,:TAX,:PTRATIO,:B,:LSTAT,:MEDV])\n",
                "\n"
            ],
            "outputs": [
                {
                    "output_type": "execute_result",
                    "data": {
                        "text/plain": [
                            "\u001b[1m506×14 DataFrame\u001b[0m\n",
                            "\u001b[1m Row \u001b[0m│\u001b[1m CRIM    \u001b[0m\u001b[1m ZN      \u001b[0m\u001b[1m INDUS   \u001b[0m\u001b[1m CHAS    \u001b[0m\u001b[1m NOX     \u001b[0m\u001b[1m RM      \u001b[0m\u001b[1m AGE     \u001b[0m\u001b[1m DIS     \u001b[0m\u001b[1m\u001b[0m ⋯\n",
                            "\u001b[1m     \u001b[0m│\u001b[90m Float64 \u001b[0m\u001b[90m Float64 \u001b[0m\u001b[90m Float64 \u001b[0m\u001b[90m Float64 \u001b[0m\u001b[90m Float64 \u001b[0m\u001b[90m Float64 \u001b[0m\u001b[90m Float64 \u001b[0m\u001b[90m Float64 \u001b[0m\u001b[90m\u001b[0m ⋯\n",
                            "─────┼──────────────────────────────────────────────────────────────────────────\n",
                            "   1 │ 0.00632     18.0     2.31      0.0    0.538    6.575     65.2   4.09    ⋯\n",
                            "   2 │ 0.02731      0.0     7.07      0.0    0.469    6.421     78.9   4.9671\n",
                            "   3 │ 0.02729      0.0     7.07      0.0    0.469    7.185     61.1   4.9671\n",
                            "   4 │ 0.03237      0.0     2.18      0.0    0.458    6.998     45.8   6.0622\n",
                            "   5 │ 0.06905      0.0     2.18      0.0    0.458    7.147     54.2   6.0622  ⋯\n",
                            "   6 │ 0.02985      0.0     2.18      0.0    0.458    6.43      58.7   6.0622\n",
                            "   7 │ 0.08829     12.5     7.87      0.0    0.524    6.012     66.6   5.5605\n",
                            "   8 │ 0.14455     12.5     7.87      0.0    0.524    6.172     96.1   5.9505\n",
                            "   9 │ 0.21124     12.5     7.87      0.0    0.524    5.631    100.0   6.0821  ⋯\n",
                            "  10 │ 0.17004     12.5     7.87      0.0    0.524    6.004     85.9   6.5921\n",
                            "  11 │ 0.22489     12.5     7.87      0.0    0.524    6.377     94.3   6.3467\n",
                            "  ⋮  │    ⋮        ⋮        ⋮        ⋮        ⋮        ⋮        ⋮        ⋮     ⋱\n",
                            " 497 │ 0.2896       0.0     9.69      0.0    0.585    5.39      72.9   2.7986\n",
                            " 498 │ 0.26838      0.0     9.69      0.0    0.585    5.794     70.6   2.8927  ⋯\n",
                            " 499 │ 0.23912      0.0     9.69      0.0    0.585    6.019     65.3   2.4091\n",
                            " 500 │ 0.17783      0.0     9.69      0.0    0.585    5.569     73.5   2.3999\n",
                            " 501 │ 0.22438      0.0     9.69      0.0    0.585    6.027     79.7   2.4982\n",
                            " 502 │ 0.06263      0.0    11.93      0.0    0.573    6.593     69.1   2.4786  ⋯\n",
                            " 503 │ 0.04527      0.0    11.93      0.0    0.573    6.12      76.7   2.2875\n",
                            " 504 │ 0.06076      0.0    11.93      0.0    0.573    6.976     91.0   2.1675\n",
                            " 505 │ 0.10959      0.0    11.93      0.0    0.573    6.794     89.3   2.3889\n",
                            " 506 │ 0.04741      0.0    11.93      0.0    0.573    6.03      80.8   2.505   ⋯\n",
                            "\u001b[36m                                                  6 columns and 485 rows omitted\u001b[0m"
                        ],
                        "text/latex": [
                            "\\begin{tabular}{r|cccccccccc}\n",
                            "\t& CRIM & ZN & INDUS & CHAS & NOX & RM & AGE & DIS & RAD & \\\\\n",
                            "\t\\hline\n",
                            "\t& Float64 & Float64 & Float64 & Float64 & Float64 & Float64 & Float64 & Float64 & Float64 & \\\\\n",
                            "\t\\hline\n",
                            "\t1 & 0.00632 & 18.0 & 2.31 & 0.0 & 0.538 & 6.575 & 65.2 & 4.09 & 1.0 & $\\dots$ \\\\\n",
                            "\t2 & 0.02731 & 0.0 & 7.07 & 0.0 & 0.469 & 6.421 & 78.9 & 4.9671 & 2.0 & $\\dots$ \\\\\n",
                            "\t3 & 0.02729 & 0.0 & 7.07 & 0.0 & 0.469 & 7.185 & 61.1 & 4.9671 & 2.0 & $\\dots$ \\\\\n",
                            "\t4 & 0.03237 & 0.0 & 2.18 & 0.0 & 0.458 & 6.998 & 45.8 & 6.0622 & 3.0 & $\\dots$ \\\\\n",
                            "\t5 & 0.06905 & 0.0 & 2.18 & 0.0 & 0.458 & 7.147 & 54.2 & 6.0622 & 3.0 & $\\dots$ \\\\\n",
                            "\t6 & 0.02985 & 0.0 & 2.18 & 0.0 & 0.458 & 6.43 & 58.7 & 6.0622 & 3.0 & $\\dots$ \\\\\n",
                            "\t7 & 0.08829 & 12.5 & 7.87 & 0.0 & 0.524 & 6.012 & 66.6 & 5.5605 & 5.0 & $\\dots$ \\\\\n",
                            "\t8 & 0.14455 & 12.5 & 7.87 & 0.0 & 0.524 & 6.172 & 96.1 & 5.9505 & 5.0 & $\\dots$ \\\\\n",
                            "\t9 & 0.21124 & 12.5 & 7.87 & 0.0 & 0.524 & 5.631 & 100.0 & 6.0821 & 5.0 & $\\dots$ \\\\\n",
                            "\t10 & 0.17004 & 12.5 & 7.87 & 0.0 & 0.524 & 6.004 & 85.9 & 6.5921 & 5.0 & $\\dots$ \\\\\n",
                            "\t11 & 0.22489 & 12.5 & 7.87 & 0.0 & 0.524 & 6.377 & 94.3 & 6.3467 & 5.0 & $\\dots$ \\\\\n",
                            "\t12 & 0.11747 & 12.5 & 7.87 & 0.0 & 0.524 & 6.009 & 82.9 & 6.2267 & 5.0 & $\\dots$ \\\\\n",
                            "\t13 & 0.09378 & 12.5 & 7.87 & 0.0 & 0.524 & 5.889 & 39.0 & 5.4509 & 5.0 & $\\dots$ \\\\\n",
                            "\t14 & 0.62976 & 0.0 & 8.14 & 0.0 & 0.538 & 5.949 & 61.8 & 4.7075 & 4.0 & $\\dots$ \\\\\n",
                            "\t15 & 0.63796 & 0.0 & 8.14 & 0.0 & 0.538 & 6.096 & 84.5 & 4.4619 & 4.0 & $\\dots$ \\\\\n",
                            "\t16 & 0.62739 & 0.0 & 8.14 & 0.0 & 0.538 & 5.834 & 56.5 & 4.4986 & 4.0 & $\\dots$ \\\\\n",
                            "\t17 & 1.05393 & 0.0 & 8.14 & 0.0 & 0.538 & 5.935 & 29.3 & 4.4986 & 4.0 & $\\dots$ \\\\\n",
                            "\t18 & 0.7842 & 0.0 & 8.14 & 0.0 & 0.538 & 5.99 & 81.7 & 4.2579 & 4.0 & $\\dots$ \\\\\n",
                            "\t19 & 0.80271 & 0.0 & 8.14 & 0.0 & 0.538 & 5.456 & 36.6 & 3.7965 & 4.0 & $\\dots$ \\\\\n",
                            "\t20 & 0.7258 & 0.0 & 8.14 & 0.0 & 0.538 & 5.727 & 69.5 & 3.7965 & 4.0 & $\\dots$ \\\\\n",
                            "\t21 & 1.25179 & 0.0 & 8.14 & 0.0 & 0.538 & 5.57 & 98.1 & 3.7979 & 4.0 & $\\dots$ \\\\\n",
                            "\t22 & 0.85204 & 0.0 & 8.14 & 0.0 & 0.538 & 5.965 & 89.2 & 4.0123 & 4.0 & $\\dots$ \\\\\n",
                            "\t23 & 1.23247 & 0.0 & 8.14 & 0.0 & 0.538 & 6.142 & 91.7 & 3.9769 & 4.0 & $\\dots$ \\\\\n",
                            "\t24 & 0.98843 & 0.0 & 8.14 & 0.0 & 0.538 & 5.813 & 100.0 & 4.0952 & 4.0 & $\\dots$ \\\\\n",
                            "\t25 & 0.75026 & 0.0 & 8.14 & 0.0 & 0.538 & 5.924 & 94.1 & 4.3996 & 4.0 & $\\dots$ \\\\\n",
                            "\t26 & 0.84054 & 0.0 & 8.14 & 0.0 & 0.538 & 5.599 & 85.7 & 4.4546 & 4.0 & $\\dots$ \\\\\n",
                            "\t27 & 0.67191 & 0.0 & 8.14 & 0.0 & 0.538 & 5.813 & 90.3 & 4.682 & 4.0 & $\\dots$ \\\\\n",
                            "\t28 & 0.95577 & 0.0 & 8.14 & 0.0 & 0.538 & 6.047 & 88.8 & 4.4534 & 4.0 & $\\dots$ \\\\\n",
                            "\t29 & 0.77299 & 0.0 & 8.14 & 0.0 & 0.538 & 6.495 & 94.4 & 4.4547 & 4.0 & $\\dots$ \\\\\n",
                            "\t30 & 1.00245 & 0.0 & 8.14 & 0.0 & 0.538 & 6.674 & 87.3 & 4.239 & 4.0 & $\\dots$ \\\\\n",
                            "\t$\\dots$ & $\\dots$ & $\\dots$ & $\\dots$ & $\\dots$ & $\\dots$ & $\\dots$ & $\\dots$ & $\\dots$ & $\\dots$ &  \\\\\n",
                            "\\end{tabular}\n"
                        ],
                        "text/html": [
                            "<div class=\"data-frame\"><p>506 rows × 14 columns (omitted printing of 5 columns)</p><table class=\"data-frame\"><thead><tr><th></th><th>CRIM</th><th>ZN</th><th>INDUS</th><th>CHAS</th><th>NOX</th><th>RM</th><th>AGE</th><th>DIS</th><th>RAD</th></tr><tr><th></th><th title=\"Float64\">Float64</th><th title=\"Float64\">Float64</th><th title=\"Float64\">Float64</th><th title=\"Float64\">Float64</th><th title=\"Float64\">Float64</th><th title=\"Float64\">Float64</th><th title=\"Float64\">Float64</th><th title=\"Float64\">Float64</th><th title=\"Float64\">Float64</th></tr></thead><tbody><tr><th>1</th><td>0.00632</td><td>18.0</td><td>2.31</td><td>0.0</td><td>0.538</td><td>6.575</td><td>65.2</td><td>4.09</td><td>1.0</td></tr><tr><th>2</th><td>0.02731</td><td>0.0</td><td>7.07</td><td>0.0</td><td>0.469</td><td>6.421</td><td>78.9</td><td>4.9671</td><td>2.0</td></tr><tr><th>3</th><td>0.02729</td><td>0.0</td><td>7.07</td><td>0.0</td><td>0.469</td><td>7.185</td><td>61.1</td><td>4.9671</td><td>2.0</td></tr><tr><th>4</th><td>0.03237</td><td>0.0</td><td>2.18</td><td>0.0</td><td>0.458</td><td>6.998</td><td>45.8</td><td>6.0622</td><td>3.0</td></tr><tr><th>5</th><td>0.06905</td><td>0.0</td><td>2.18</td><td>0.0</td><td>0.458</td><td>7.147</td><td>54.2</td><td>6.0622</td><td>3.0</td></tr><tr><th>6</th><td>0.02985</td><td>0.0</td><td>2.18</td><td>0.0</td><td>0.458</td><td>6.43</td><td>58.7</td><td>6.0622</td><td>3.0</td></tr><tr><th>7</th><td>0.08829</td><td>12.5</td><td>7.87</td><td>0.0</td><td>0.524</td><td>6.012</td><td>66.6</td><td>5.5605</td><td>5.0</td></tr><tr><th>8</th><td>0.14455</td><td>12.5</td><td>7.87</td><td>0.0</td><td>0.524</td><td>6.172</td><td>96.1</td><td>5.9505</td><td>5.0</td></tr><tr><th>9</th><td>0.21124</td><td>12.5</td><td>7.87</td><td>0.0</td><td>0.524</td><td>5.631</td><td>100.0</td><td>6.0821</td><td>5.0</td></tr><tr><th>10</th><td>0.17004</td><td>12.5</td><td>7.87</td><td>0.0</td><td>0.524</td><td>6.004</td><td>85.9</td><td>6.5921</td><td>5.0</td></tr><tr><th>11</th><td>0.22489</td><td>12.5</td><td>7.87</td><td>0.0</td><td>0.524</td><td>6.377</td><td>94.3</td><td>6.3467</td><td>5.0</td></tr><tr><th>12</th><td>0.11747</td><td>12.5</td><td>7.87</td><td>0.0</td><td>0.524</td><td>6.009</td><td>82.9</td><td>6.2267</td><td>5.0</td></tr><tr><th>13</th><td>0.09378</td><td>12.5</td><td>7.87</td><td>0.0</td><td>0.524</td><td>5.889</td><td>39.0</td><td>5.4509</td><td>5.0</td></tr><tr><th>14</th><td>0.62976</td><td>0.0</td><td>8.14</td><td>0.0</td><td>0.538</td><td>5.949</td><td>61.8</td><td>4.7075</td><td>4.0</td></tr><tr><th>15</th><td>0.63796</td><td>0.0</td><td>8.14</td><td>0.0</td><td>0.538</td><td>6.096</td><td>84.5</td><td>4.4619</td><td>4.0</td></tr><tr><th>16</th><td>0.62739</td><td>0.0</td><td>8.14</td><td>0.0</td><td>0.538</td><td>5.834</td><td>56.5</td><td>4.4986</td><td>4.0</td></tr><tr><th>17</th><td>1.05393</td><td>0.0</td><td>8.14</td><td>0.0</td><td>0.538</td><td>5.935</td><td>29.3</td><td>4.4986</td><td>4.0</td></tr><tr><th>18</th><td>0.7842</td><td>0.0</td><td>8.14</td><td>0.0</td><td>0.538</td><td>5.99</td><td>81.7</td><td>4.2579</td><td>4.0</td></tr><tr><th>19</th><td>0.80271</td><td>0.0</td><td>8.14</td><td>0.0</td><td>0.538</td><td>5.456</td><td>36.6</td><td>3.7965</td><td>4.0</td></tr><tr><th>20</th><td>0.7258</td><td>0.0</td><td>8.14</td><td>0.0</td><td>0.538</td><td>5.727</td><td>69.5</td><td>3.7965</td><td>4.0</td></tr><tr><th>21</th><td>1.25179</td><td>0.0</td><td>8.14</td><td>0.0</td><td>0.538</td><td>5.57</td><td>98.1</td><td>3.7979</td><td>4.0</td></tr><tr><th>22</th><td>0.85204</td><td>0.0</td><td>8.14</td><td>0.0</td><td>0.538</td><td>5.965</td><td>89.2</td><td>4.0123</td><td>4.0</td></tr><tr><th>23</th><td>1.23247</td><td>0.0</td><td>8.14</td><td>0.0</td><td>0.538</td><td>6.142</td><td>91.7</td><td>3.9769</td><td>4.0</td></tr><tr><th>24</th><td>0.98843</td><td>0.0</td><td>8.14</td><td>0.0</td><td>0.538</td><td>5.813</td><td>100.0</td><td>4.0952</td><td>4.0</td></tr><tr><th>25</th><td>0.75026</td><td>0.0</td><td>8.14</td><td>0.0</td><td>0.538</td><td>5.924</td><td>94.1</td><td>4.3996</td><td>4.0</td></tr><tr><th>26</th><td>0.84054</td><td>0.0</td><td>8.14</td><td>0.0</td><td>0.538</td><td>5.599</td><td>85.7</td><td>4.4546</td><td>4.0</td></tr><tr><th>27</th><td>0.67191</td><td>0.0</td><td>8.14</td><td>0.0</td><td>0.538</td><td>5.813</td><td>90.3</td><td>4.682</td><td>4.0</td></tr><tr><th>28</th><td>0.95577</td><td>0.0</td><td>8.14</td><td>0.0</td><td>0.538</td><td>6.047</td><td>88.8</td><td>4.4534</td><td>4.0</td></tr><tr><th>29</th><td>0.77299</td><td>0.0</td><td>8.14</td><td>0.0</td><td>0.538</td><td>6.495</td><td>94.4</td><td>4.4547</td><td>4.0</td></tr><tr><th>30</th><td>1.00245</td><td>0.0</td><td>8.14</td><td>0.0</td><td>0.538</td><td>6.674</td><td>87.3</td><td>4.239</td><td>4.0</td></tr><tr><th>&vellip;</th><td>&vellip;</td><td>&vellip;</td><td>&vellip;</td><td>&vellip;</td><td>&vellip;</td><td>&vellip;</td><td>&vellip;</td><td>&vellip;</td><td>&vellip;</td></tr></tbody></table></div>"
                        ]
                    },
                    "metadata": {},
                    "execution_count": 4
                }
            ],
            "metadata": {}
        },
        {
            "cell_type": "code",
            "execution_count": 5,
            "source": [
                "describe(df, :all)"
            ],
            "outputs": [
                {
                    "output_type": "execute_result",
                    "data": {
                        "text/plain": [
                            "\u001b[1m14×13 DataFrame\u001b[0m\n",
                            "\u001b[1m Row \u001b[0m│\u001b[1m variable \u001b[0m\u001b[1m mean       \u001b[0m\u001b[1m std        \u001b[0m\u001b[1m min       \u001b[0m\u001b[1m q25        \u001b[0m\u001b[1m median    \u001b[0m\u001b[1m q75\u001b[0m ⋯\n",
                            "\u001b[1m     \u001b[0m│\u001b[90m Symbol   \u001b[0m\u001b[90m Float64    \u001b[0m\u001b[90m Float64    \u001b[0m\u001b[90m Float64   \u001b[0m\u001b[90m Float64    \u001b[0m\u001b[90m Float64   \u001b[0m\u001b[90m Flo\u001b[0m ⋯\n",
                            "─────┼──────────────────────────────────────────────────────────────────────────\n",
                            "   1 │ CRIM        3.61352     8.60155     0.00632    0.082045    0.25651    3 ⋯\n",
                            "   2 │ ZN         11.3636     23.3225      0.0        0.0         0.0       12\n",
                            "   3 │ INDUS      11.1368      6.86035     0.46       5.19        9.69      18\n",
                            "   4 │ CHAS        0.06917     0.253994    0.0        0.0         0.0        0\n",
                            "   5 │ NOX         0.554695    0.115878    0.385      0.449       0.538      0 ⋯\n",
                            "   6 │ RM          6.28463     0.702617    3.561      5.8855      6.2085     6\n",
                            "   7 │ AGE        68.5749     28.1489      2.9       45.025      77.5       94\n",
                            "   8 │ DIS         3.79504     2.10571     1.1296     2.10018     3.20745    5\n",
                            "   9 │ RAD         9.54941     8.70726     1.0        4.0         5.0       24 ⋯\n",
                            "  10 │ TAX       408.237     168.537     187.0      279.0       330.0      666\n",
                            "  11 │ PTRATIO    18.4555      2.16495    12.6       17.4        19.05      20\n",
                            "  12 │ B         356.674      91.2949      0.32     375.377     391.44     396\n",
                            "  13 │ LSTAT      12.6531      7.14106     1.73       6.95       11.36      16 ⋯\n",
                            "  14 │ MEDV       22.5328      9.1971      5.0       17.025      21.2       25\n",
                            "\u001b[36m                                                               7 columns omitted\u001b[0m"
                        ],
                        "text/latex": [
                            "\\begin{tabular}{r|cccccccccc}\n",
                            "\t& variable & mean & std & min & q25 & median & q75 & max & nunique & \\\\\n",
                            "\t\\hline\n",
                            "\t& Symbol & Float64 & Float64 & Float64 & Float64 & Float64 & Float64 & Float64 & Nothing & \\\\\n",
                            "\t\\hline\n",
                            "\t1 & CRIM & 3.61352 & 8.60155 & 0.00632 & 0.082045 & 0.25651 & 3.67708 & 88.9762 &  & $\\dots$ \\\\\n",
                            "\t2 & ZN & 11.3636 & 23.3225 & 0.0 & 0.0 & 0.0 & 12.5 & 100.0 &  & $\\dots$ \\\\\n",
                            "\t3 & INDUS & 11.1368 & 6.86035 & 0.46 & 5.19 & 9.69 & 18.1 & 27.74 &  & $\\dots$ \\\\\n",
                            "\t4 & CHAS & 0.06917 & 0.253994 & 0.0 & 0.0 & 0.0 & 0.0 & 1.0 &  & $\\dots$ \\\\\n",
                            "\t5 & NOX & 0.554695 & 0.115878 & 0.385 & 0.449 & 0.538 & 0.624 & 0.871 &  & $\\dots$ \\\\\n",
                            "\t6 & RM & 6.28463 & 0.702617 & 3.561 & 5.8855 & 6.2085 & 6.6235 & 8.78 &  & $\\dots$ \\\\\n",
                            "\t7 & AGE & 68.5749 & 28.1489 & 2.9 & 45.025 & 77.5 & 94.075 & 100.0 &  & $\\dots$ \\\\\n",
                            "\t8 & DIS & 3.79504 & 2.10571 & 1.1296 & 2.10018 & 3.20745 & 5.18843 & 12.1265 &  & $\\dots$ \\\\\n",
                            "\t9 & RAD & 9.54941 & 8.70726 & 1.0 & 4.0 & 5.0 & 24.0 & 24.0 &  & $\\dots$ \\\\\n",
                            "\t10 & TAX & 408.237 & 168.537 & 187.0 & 279.0 & 330.0 & 666.0 & 711.0 &  & $\\dots$ \\\\\n",
                            "\t11 & PTRATIO & 18.4555 & 2.16495 & 12.6 & 17.4 & 19.05 & 20.2 & 22.0 &  & $\\dots$ \\\\\n",
                            "\t12 & B & 356.674 & 91.2949 & 0.32 & 375.377 & 391.44 & 396.225 & 396.9 &  & $\\dots$ \\\\\n",
                            "\t13 & LSTAT & 12.6531 & 7.14106 & 1.73 & 6.95 & 11.36 & 16.955 & 37.97 &  & $\\dots$ \\\\\n",
                            "\t14 & MEDV & 22.5328 & 9.1971 & 5.0 & 17.025 & 21.2 & 25.0 & 50.0 &  & $\\dots$ \\\\\n",
                            "\\end{tabular}\n"
                        ],
                        "text/html": [
                            "<div class=\"data-frame\"><p>14 rows × 13 columns (omitted printing of 4 columns)</p><table class=\"data-frame\"><thead><tr><th></th><th>variable</th><th>mean</th><th>std</th><th>min</th><th>q25</th><th>median</th><th>q75</th><th>max</th><th>nunique</th></tr><tr><th></th><th title=\"Symbol\">Symbol</th><th title=\"Float64\">Float64</th><th title=\"Float64\">Float64</th><th title=\"Float64\">Float64</th><th title=\"Float64\">Float64</th><th title=\"Float64\">Float64</th><th title=\"Float64\">Float64</th><th title=\"Float64\">Float64</th><th title=\"Nothing\">Nothing</th></tr></thead><tbody><tr><th>1</th><td>CRIM</td><td>3.61352</td><td>8.60155</td><td>0.00632</td><td>0.082045</td><td>0.25651</td><td>3.67708</td><td>88.9762</td><td></td></tr><tr><th>2</th><td>ZN</td><td>11.3636</td><td>23.3225</td><td>0.0</td><td>0.0</td><td>0.0</td><td>12.5</td><td>100.0</td><td></td></tr><tr><th>3</th><td>INDUS</td><td>11.1368</td><td>6.86035</td><td>0.46</td><td>5.19</td><td>9.69</td><td>18.1</td><td>27.74</td><td></td></tr><tr><th>4</th><td>CHAS</td><td>0.06917</td><td>0.253994</td><td>0.0</td><td>0.0</td><td>0.0</td><td>0.0</td><td>1.0</td><td></td></tr><tr><th>5</th><td>NOX</td><td>0.554695</td><td>0.115878</td><td>0.385</td><td>0.449</td><td>0.538</td><td>0.624</td><td>0.871</td><td></td></tr><tr><th>6</th><td>RM</td><td>6.28463</td><td>0.702617</td><td>3.561</td><td>5.8855</td><td>6.2085</td><td>6.6235</td><td>8.78</td><td></td></tr><tr><th>7</th><td>AGE</td><td>68.5749</td><td>28.1489</td><td>2.9</td><td>45.025</td><td>77.5</td><td>94.075</td><td>100.0</td><td></td></tr><tr><th>8</th><td>DIS</td><td>3.79504</td><td>2.10571</td><td>1.1296</td><td>2.10018</td><td>3.20745</td><td>5.18843</td><td>12.1265</td><td></td></tr><tr><th>9</th><td>RAD</td><td>9.54941</td><td>8.70726</td><td>1.0</td><td>4.0</td><td>5.0</td><td>24.0</td><td>24.0</td><td></td></tr><tr><th>10</th><td>TAX</td><td>408.237</td><td>168.537</td><td>187.0</td><td>279.0</td><td>330.0</td><td>666.0</td><td>711.0</td><td></td></tr><tr><th>11</th><td>PTRATIO</td><td>18.4555</td><td>2.16495</td><td>12.6</td><td>17.4</td><td>19.05</td><td>20.2</td><td>22.0</td><td></td></tr><tr><th>12</th><td>B</td><td>356.674</td><td>91.2949</td><td>0.32</td><td>375.377</td><td>391.44</td><td>396.225</td><td>396.9</td><td></td></tr><tr><th>13</th><td>LSTAT</td><td>12.6531</td><td>7.14106</td><td>1.73</td><td>6.95</td><td>11.36</td><td>16.955</td><td>37.97</td><td></td></tr><tr><th>14</th><td>MEDV</td><td>22.5328</td><td>9.1971</td><td>5.0</td><td>17.025</td><td>21.2</td><td>25.0</td><td>50.0</td><td></td></tr></tbody></table></div>"
                        ]
                    },
                    "metadata": {},
                    "execution_count": 5
                }
            ],
            "metadata": {}
        },
        {
            "cell_type": "markdown",
            "source": [
                "1.4. Variable characterisitics\n",
                "- Nominal variables\n",
                "    - CHAS\n",
                "- Continuous are the rest"
            ],
            "metadata": {}
        },
        {
            "cell_type": "code",
            "execution_count": 6,
            "source": [
                "Pkg.add(\"StatsPlots\")\n",
                "p = histogram(df)"
            ],
            "outputs": [
                {
                    "output_type": "stream",
                    "name": "stderr",
                    "text": [
                        "\u001b[32m\u001b[1m   Resolving\u001b[22m\u001b[39m package versions...\n",
                        "\u001b[32m\u001b[1m  No Changes\u001b[22m\u001b[39m to `~/ManningLiveProjects/julia/Project.toml`\n",
                        "\u001b[32m\u001b[1m  No Changes\u001b[22m\u001b[39m to `~/ManningLiveProjects/julia/Manifest.toml`\n"
                    ]
                },
                {
                    "output_type": "error",
                    "ename": "LoadError",
                    "evalue": "UndefVarError: histogram not defined",
                    "traceback": [
                        "UndefVarError: histogram not defined",
                        "",
                        "Stacktrace:",
                        " [1] top-level scope",
                        "   @ In[6]:2",
                        " [2] eval",
                        "   @ ./boot.jl:360 [inlined]",
                        " [3] include_string(mapexpr::typeof(REPL.softscope), mod::Module, code::String, filename::String)",
                        "   @ Base ./loading.jl:1116"
                    ]
                }
            ],
            "metadata": {}
        }
    ],
    "metadata": {
        "orig_nbformat": 4,
        "language_info": {
            "file_extension": ".jl",
            "name": "julia",
            "mimetype": "application/julia",
            "version": "1.6.2"
        },
        "kernelspec": {
            "name": "julia-1.6",
            "display_name": "Julia 1.6.2",
            "language": "julia"
        },
        "interpreter": {
            "hash": "916dbcbb3f70747c44a77c7bcd40155683ae19c65e1c03b4aa3499c5328201f1"
        }
    },
    "nbformat": 4,
    "nbformat_minor": 2
}